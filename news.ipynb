{
 "cells": [
  {
   "cell_type": "code",
   "execution_count": 141,
   "metadata": {},
   "outputs": [
    {
     "name": "stdout",
     "output_type": "stream",
     "text": [
      "CSV file 'news_data_kaggle.csv' has been created successfully.\n"
     ]
    }
   ],
   "source": [
    "import os\n",
    "import csv\n",
    "\n",
    "# Define the folders for each category\n",
    "folders = {\n",
    "    'Agriculture': '/home/bikash/Desktop/keras/NLP5/nepali_news_dataset_20_categories_large/nepali_news_dataset_20_categories_large/Agriculture',\n",
    "    'Automobiles': '/home/bikash/Desktop/keras/NLP5/nepali_news_dataset_20_categories_large/nepali_news_dataset_20_categories_large/Automobiles',\n",
    "    'Bank': '/home/bikash/Desktop/keras/NLP5/nepali_news_dataset_20_categories_large/nepali_news_dataset_20_categories_large/Bank',\n",
    "    'Blog': '/home/bikash/Desktop/keras/NLP5/nepali_news_dataset_20_categories_large/nepali_news_dataset_20_categories_large/Blog',\n",
    "    'Business': '/home/bikash/Desktop/keras/NLP5/nepali_news_dataset_20_categories_large/nepali_news_dataset_20_categories_large/Business',\n",
    "    'Economy': '/home/bikash/Desktop/keras/NLP5/nepali_news_dataset_20_categories_large/nepali_news_dataset_20_categories_large/Economy',\n",
    "    'Education': '/home/bikash/Desktop/keras/NLP5/nepali_news_dataset_20_categories_large/nepali_news_dataset_20_categories_large/Education',\n",
    "    'Employment': '/home/bikash/Desktop/keras/NLP5/nepali_news_dataset_20_categories_large/nepali_news_dataset_20_categories_large/Employment',\n",
    "    'Entertainment': '/home/bikash/Desktop/keras/NLP5/nepali_news_dataset_20_categories_large/nepali_news_dataset_20_categories_large/Entertainment',\n",
    "    'Health': '/home/bikash/Desktop/keras/NLP5/nepali_news_dataset_20_categories_large/nepali_news_dataset_20_categories_large/Health',\n",
    "    'Interview': '/home/bikash/Desktop/keras/NLP5/nepali_news_dataset_20_categories_large/nepali_news_dataset_20_categories_large/Interview',\n",
    "    'Literature': '/home/bikash/Desktop/keras/NLP5/nepali_news_dataset_20_categories_large/nepali_news_dataset_20_categories_large/Literature',\n",
    "    'Migration': '/home/bikash/Desktop/keras/NLP5/nepali_news_dataset_20_categories_large/nepali_news_dataset_20_categories_large/Migration',\n",
    "    'Opinion': '/home/bikash/Desktop/keras/NLP5/nepali_news_dataset_20_categories_large/nepali_news_dataset_20_categories_large/Opinion',\n",
    "    'Politics': '/home/bikash/Desktop/keras/NLP5/nepali_news_dataset_20_categories_large/nepali_news_dataset_20_categories_large/Politics',\n",
    "    'Society': '/home/bikash/Desktop/keras/NLP5/nepali_news_dataset_20_categories_large/nepali_news_dataset_20_categories_large/Society',\n",
    "    'Sports': '/home/bikash/Desktop/keras/NLP5/nepali_news_dataset_20_categories_large/nepali_news_dataset_20_categories_large/Sports',\n",
    "    'Technology': '/home/bikash/Desktop/keras/NLP5/nepali_news_dataset_20_categories_large/nepali_news_dataset_20_categories_large/Technology',\n",
    "    'Tourism': '/home/bikash/Desktop/keras/NLP5/nepali_news_dataset_20_categories_large/nepali_news_dataset_20_categories_large/Tourism',\n",
    "    'World':'/home/bikash/Desktop/keras/NLP5/nepali_news_dataset_20_categories_large/nepali_news_dataset_20_categories_large/World'\n",
    "}\n",
    "\n",
    "# Define the CSV file to write to\n",
    "csv_file = 'news_data_kaggle.csv'\n",
    "\n",
    "# Define the CSV header\n",
    "header = ['Category', 'News']\n",
    "\n",
    "# Open the CSV file in write mode\n",
    "with open(csv_file, mode='w', newline='', encoding='utf-8') as file:\n",
    "    writer = csv.writer(file, escapechar='\\\\', quoting=csv.QUOTE_MINIMAL)\n",
    "    \n",
    "    # Write the header\n",
    "    writer.writerow(header)\n",
    "    \n",
    "    # Iterate over each category and its folder\n",
    "    for category, folder in folders.items():\n",
    "        # List all files in the folder\n",
    "        for filename in os.listdir(folder):\n",
    "            if filename.endswith('.txt'):  # Assuming news articles are in text files\n",
    "                file_path = os.path.join(folder, filename)\n",
    "                try:\n",
    "                    with open(file_path, 'r', encoding='utf-8') as f:\n",
    "                        content = f.read()\n",
    "                except UnicodeDecodeError:\n",
    "                    try:\n",
    "                        with open(file_path, 'r', encoding='latin-1') as f:\n",
    "                            content = f.read()\n",
    "                    except UnicodeDecodeError:\n",
    "                        print(f\"Could not read file: {file_path}\")\n",
    "                        continue\n",
    "                \n",
    "                # Write the row to the CSV file\n",
    "                writer.writerow([category, content])\n",
    "\n",
    "print(f\"CSV file '{csv_file}' has been created successfully.\")\n"
   ]
  },
  {
   "cell_type": "code",
   "execution_count": 142,
   "metadata": {},
   "outputs": [
    {
     "data": {
      "text/html": [
       "<div>\n",
       "<style scoped>\n",
       "    .dataframe tbody tr th:only-of-type {\n",
       "        vertical-align: middle;\n",
       "    }\n",
       "\n",
       "    .dataframe tbody tr th {\n",
       "        vertical-align: top;\n",
       "    }\n",
       "\n",
       "    .dataframe thead th {\n",
       "        text-align: right;\n",
       "    }\n",
       "</style>\n",
       "<table border=\"1\" class=\"dataframe\">\n",
       "  <thead>\n",
       "    <tr style=\"text-align: right;\">\n",
       "      <th></th>\n",
       "      <th>Category</th>\n",
       "      <th>News</th>\n",
       "    </tr>\n",
       "  </thead>\n",
       "  <tbody>\n",
       "    <tr>\n",
       "      <th>0</th>\n",
       "      <td>Agriculture</td>\n",
       "      <td>भर्खरै रोपेको धानमा विभिन्न रोगको प्रकोप देखिन...</td>\n",
       "    </tr>\n",
       "    <tr>\n",
       "      <th>1</th>\n",
       "      <td>Agriculture</td>\n",
       "      <td>ÿþ5\\tH\\t\u001c\\tM\\t\u001e\\t&gt;\\t(\\t?\\t\u0015\\t9\\t0\\tB\\t2\\tG\\t</td>\n",
       "    </tr>\n",
       "    <tr>\n",
       "      <th>2</th>\n",
       "      <td>Agriculture</td>\n",
       "      <td>सन् २०१० मा रोजगारीको क्रममा कतार पुगेका खेम प...</td>\n",
       "    </tr>\n",
       "    <tr>\n",
       "      <th>3</th>\n",
       "      <td>Agriculture</td>\n",
       "      <td>ÿþ\u0015\\t9\\t2\\t?\\t\u000f\\t\u0015\\t&gt;\\t</td>\n",
       "    </tr>\n",
       "    <tr>\n",
       "      <th>4</th>\n",
       "      <td>Agriculture</td>\n",
       "      <td>हाँका एक व्यक्तिले १० बिगाहा जमिनमा व्यावसायिक...</td>\n",
       "    </tr>\n",
       "    <tr>\n",
       "      <th>...</th>\n",
       "      <td>...</td>\n",
       "      <td>...</td>\n",
       "    </tr>\n",
       "    <tr>\n",
       "      <th>6968</th>\n",
       "      <td>World</td>\n",
       "      <td>ÿþ\u0015\\t0\\tA\\t#\\t&gt;\\t(\\t?\\t'\\t?\\t\u0015\\tK\\t</td>\n",
       "    </tr>\n",
       "    <tr>\n",
       "      <th>6969</th>\n",
       "      <td>World</td>\n",
       "      <td>\\n﻿फेब्रुअरी १७ ,२०१५, अमेरिका - यस नेपाल अमेर...</td>\n",
       "    </tr>\n",
       "    <tr>\n",
       "      <th>6970</th>\n",
       "      <td>World</td>\n",
       "      <td>\\n﻿सिरहा, ३० कार्तिक । सिरहाको कर्जन्हाका क्या...</td>\n",
       "    </tr>\n",
       "    <tr>\n",
       "      <th>6971</th>\n",
       "      <td>World</td>\n",
       "      <td>ÿþ-\\tG\\t(\\tG\\t\u001c\\tA\\t\u000f\\t2\\t&gt;\\t\u0015\\t&gt;\\t</td>\n",
       "    </tr>\n",
       "    <tr>\n",
       "      <th>6972</th>\n",
       "      <td>World</td>\n",
       "      <td>ÿþ\u001b\\t$\\tM\\t$\\t?\\t8\\t\u0017\\t\"\\t.\\t&gt;\\t</td>\n",
       "    </tr>\n",
       "  </tbody>\n",
       "</table>\n",
       "<p>6973 rows × 2 columns</p>\n",
       "</div>"
      ],
      "text/plain": [
       "         Category                                               News\n",
       "0     Agriculture  भर्खरै रोपेको धानमा विभिन्न रोगको प्रकोप देखिन...\n",
       "1     Agriculture      ÿþ5\\tH\\t\n",
       "\\tM\\t\n",
       "\\t>\\t(\\t?\\t\u0015\\t9\\t0\\tB\\t2\\tG\\t \n",
       "2     Agriculture  सन् २०१० मा रोजगारीको क्रममा कतार पुगेका खेम प...\n",
       "3     Agriculture                           ÿþ\u0015\\t9\\t2\\t?\\t\u000f\\t\u0015\\t>\\t \n",
       "4     Agriculture  हाँका एक व्यक्तिले १० बिगाहा जमिनमा व्यावसायिक...\n",
       "...           ...                                                ...\n",
       "6968        World               ÿþ\u0015\\t0\\tA\\t#\\t>\\t(\\t?\\t'\\t?\\t\u0015\\tK\\t \n",
       "6969        World  \\n﻿फेब्रुअरी १७ ,२०१५, अमेरिका - यस नेपाल अमेर...\n",
       "6970        World  \\n﻿सिरहा, ३० कार्तिक । सिरहाको कर्जन्हाका क्या...\n",
       "6971        World               ÿþ-\\tG\\t(\\tG\\t\n",
       "\\tA\\t\u000f\\t2\\t>\\t\u0015\\t>\\t \n",
       "6972        World                  ÿþ\u001b\\t$\\tM\\t$\\t?\\t8\\t\u0017\\t\"\\t.\\t>\\t \n",
       "\n",
       "[6973 rows x 2 columns]"
      ]
     },
     "execution_count": 142,
     "metadata": {},
     "output_type": "execute_result"
    }
   ],
   "source": [
    "import pandas as pd\n",
    "import re\n",
    "df=pd.read_csv('news_data_kaggle.csv')\n",
    "df"
   ]
  },
  {
   "cell_type": "code",
   "execution_count": 143,
   "metadata": {},
   "outputs": [],
   "source": [
    "# Function to clean the text\n",
    "def clean_text(text):\n",
    "    if isinstance(text, str):\n",
    "        # Remove unwanted symbols and characters, keep only Nepali characters and whitespace\n",
    "        cleaned_text = re.sub(r'[^\\u0900-\\u097F\\s]', '', text)\n",
    "        # Remove newline characters\n",
    "        cleaned_text = cleaned_text.replace('\\n', '')\n",
    "        cleaned_text = cleaned_text.replace('\\t', '')\n",
    "        return cleaned_text.strip()\n",
    "    return ''  # Return an empty string if the text is not a string\n",
    "\n",
    "# Apply the cleaning function to the News column\n",
    "df['News'] = df['News'].apply(clean_text)\n"
   ]
  },
  {
   "cell_type": "code",
   "execution_count": 144,
   "metadata": {},
   "outputs": [],
   "source": [
    "# Remove rows where 'content' is empty\n",
    "df = df[df['News'] != '']"
   ]
  },
  {
   "cell_type": "code",
   "execution_count": 145,
   "metadata": {},
   "outputs": [
    {
     "data": {
      "text/html": [
       "<div>\n",
       "<style scoped>\n",
       "    .dataframe tbody tr th:only-of-type {\n",
       "        vertical-align: middle;\n",
       "    }\n",
       "\n",
       "    .dataframe tbody tr th {\n",
       "        vertical-align: top;\n",
       "    }\n",
       "\n",
       "    .dataframe thead th {\n",
       "        text-align: right;\n",
       "    }\n",
       "</style>\n",
       "<table border=\"1\" class=\"dataframe\">\n",
       "  <thead>\n",
       "    <tr style=\"text-align: right;\">\n",
       "      <th></th>\n",
       "      <th>Category</th>\n",
       "      <th>News</th>\n",
       "    </tr>\n",
       "  </thead>\n",
       "  <tbody>\n",
       "    <tr>\n",
       "      <th>2841</th>\n",
       "      <td>Entertainment</td>\n",
       "      <td>उषा पाण्डे। सेताेपर्दापछिल्लो समयका चर्चित कवि...</td>\n",
       "    </tr>\n",
       "    <tr>\n",
       "      <th>5829</th>\n",
       "      <td>Sports</td>\n",
       "      <td>विद्युत् प्राधिकरणले चुहावट नियन्त्रण अभियान स...</td>\n",
       "    </tr>\n",
       "    <tr>\n",
       "      <th>5254</th>\n",
       "      <td>Politics</td>\n",
       "      <td>राजविराज २४ माघ । मधेशी जनअधिकार फोरम नेपाल लो...</td>\n",
       "    </tr>\n",
       "    <tr>\n",
       "      <th>1866</th>\n",
       "      <td>Economy</td>\n",
       "      <td>१६ पुस चितवन । नेपालमा गत एक वर्षमा २४ अर्ब रु...</td>\n",
       "    </tr>\n",
       "    <tr>\n",
       "      <th>5931</th>\n",
       "      <td>Sports</td>\n",
       "      <td>जर्मनीलाई उपाधि रक्षाको चुनौतीविश्वकप फुटबलमा ...</td>\n",
       "    </tr>\n",
       "    <tr>\n",
       "      <th>...</th>\n",
       "      <td>...</td>\n",
       "      <td>...</td>\n",
       "    </tr>\n",
       "    <tr>\n",
       "      <th>2830</th>\n",
       "      <td>Entertainment</td>\n",
       "      <td>हल्ला चलेछ गीतमार्फत आफू अमेरिकामा पलायन नभएको...</td>\n",
       "    </tr>\n",
       "    <tr>\n",
       "      <th>6153</th>\n",
       "      <td>Sports</td>\n",
       "      <td>स्थापनाको आधा दसकपछि त्रिभुवन विश्वविद्यालय आफ...</td>\n",
       "    </tr>\n",
       "    <tr>\n",
       "      <th>3554</th>\n",
       "      <td>Interview</td>\n",
       "      <td>केही क्षेत्र मात्र नभई पूरै मुलुक दुष्ट सिन्डि...</td>\n",
       "    </tr>\n",
       "    <tr>\n",
       "      <th>4957</th>\n",
       "      <td>Politics</td>\n",
       "      <td>राजविराज १२ चैत । सप्तरीको राजविराज स्थित देशक...</td>\n",
       "    </tr>\n",
       "    <tr>\n",
       "      <th>5999</th>\n",
       "      <td>Sports</td>\n",
       "      <td>युवा तथा खेलकुदमन्त्री दलजित श्रीपाइलीले सातौँ...</td>\n",
       "    </tr>\n",
       "  </tbody>\n",
       "</table>\n",
       "<p>5420 rows × 2 columns</p>\n",
       "</div>"
      ],
      "text/plain": [
       "           Category                                               News\n",
       "2841  Entertainment  उषा पाण्डे। सेताेपर्दापछिल्लो समयका चर्चित कवि...\n",
       "5829         Sports  विद्युत् प्राधिकरणले चुहावट नियन्त्रण अभियान स...\n",
       "5254       Politics  राजविराज २४ माघ । मधेशी जनअधिकार फोरम नेपाल लो...\n",
       "1866        Economy  १६ पुस चितवन । नेपालमा गत एक वर्षमा २४ अर्ब रु...\n",
       "5931         Sports  जर्मनीलाई उपाधि रक्षाको चुनौतीविश्वकप फुटबलमा ...\n",
       "...             ...                                                ...\n",
       "2830  Entertainment  हल्ला चलेछ गीतमार्फत आफू अमेरिकामा पलायन नभएको...\n",
       "6153         Sports  स्थापनाको आधा दसकपछि त्रिभुवन विश्वविद्यालय आफ...\n",
       "3554      Interview  केही क्षेत्र मात्र नभई पूरै मुलुक दुष्ट सिन्डि...\n",
       "4957       Politics  राजविराज १२ चैत । सप्तरीको राजविराज स्थित देशक...\n",
       "5999         Sports  युवा तथा खेलकुदमन्त्री दलजित श्रीपाइलीले सातौँ...\n",
       "\n",
       "[5420 rows x 2 columns]"
      ]
     },
     "execution_count": 145,
     "metadata": {},
     "output_type": "execute_result"
    }
   ],
   "source": [
    "df = df.sample(frac = 1)\n",
    "df"
   ]
  },
  {
   "cell_type": "code",
   "execution_count": 151,
   "metadata": {},
   "outputs": [],
   "source": [
    "df.to_csv('cleaned_news_dataset.csv',index=False)  # Use '\\t' for tab-separated values"
   ]
  },
  {
   "cell_type": "code",
   "execution_count": 152,
   "metadata": {},
   "outputs": [
    {
     "data": {
      "text/html": [
       "<div>\n",
       "<style scoped>\n",
       "    .dataframe tbody tr th:only-of-type {\n",
       "        vertical-align: middle;\n",
       "    }\n",
       "\n",
       "    .dataframe tbody tr th {\n",
       "        vertical-align: top;\n",
       "    }\n",
       "\n",
       "    .dataframe thead th {\n",
       "        text-align: right;\n",
       "    }\n",
       "</style>\n",
       "<table border=\"1\" class=\"dataframe\">\n",
       "  <thead>\n",
       "    <tr style=\"text-align: right;\">\n",
       "      <th></th>\n",
       "      <th>Unnamed: 0</th>\n",
       "      <th>Category</th>\n",
       "      <th>News</th>\n",
       "    </tr>\n",
       "  </thead>\n",
       "  <tbody>\n",
       "    <tr>\n",
       "      <th>0</th>\n",
       "      <td>2841</td>\n",
       "      <td>Entertainment</td>\n",
       "      <td>उषा पाण्डे। सेताेपर्दापछिल्लो समयका चर्चित कवि...</td>\n",
       "    </tr>\n",
       "    <tr>\n",
       "      <th>1</th>\n",
       "      <td>5829</td>\n",
       "      <td>Sports</td>\n",
       "      <td>विद्युत् प्राधिकरणले चुहावट नियन्त्रण अभियान स...</td>\n",
       "    </tr>\n",
       "    <tr>\n",
       "      <th>2</th>\n",
       "      <td>5254</td>\n",
       "      <td>Politics</td>\n",
       "      <td>राजविराज २४ माघ । मधेशी जनअधिकार फोरम नेपाल लो...</td>\n",
       "    </tr>\n",
       "    <tr>\n",
       "      <th>3</th>\n",
       "      <td>1866</td>\n",
       "      <td>Economy</td>\n",
       "      <td>१६ पुस चितवन । नेपालमा गत एक वर्षमा २४ अर्ब रु...</td>\n",
       "    </tr>\n",
       "    <tr>\n",
       "      <th>4</th>\n",
       "      <td>5931</td>\n",
       "      <td>Sports</td>\n",
       "      <td>जर्मनीलाई उपाधि रक्षाको चुनौतीविश्वकप फुटबलमा ...</td>\n",
       "    </tr>\n",
       "    <tr>\n",
       "      <th>...</th>\n",
       "      <td>...</td>\n",
       "      <td>...</td>\n",
       "      <td>...</td>\n",
       "    </tr>\n",
       "    <tr>\n",
       "      <th>5415</th>\n",
       "      <td>2830</td>\n",
       "      <td>Entertainment</td>\n",
       "      <td>हल्ला चलेछ गीतमार्फत आफू अमेरिकामा पलायन नभएको...</td>\n",
       "    </tr>\n",
       "    <tr>\n",
       "      <th>5416</th>\n",
       "      <td>6153</td>\n",
       "      <td>Sports</td>\n",
       "      <td>स्थापनाको आधा दसकपछि त्रिभुवन विश्वविद्यालय आफ...</td>\n",
       "    </tr>\n",
       "    <tr>\n",
       "      <th>5417</th>\n",
       "      <td>3554</td>\n",
       "      <td>Interview</td>\n",
       "      <td>केही क्षेत्र मात्र नभई पूरै मुलुक दुष्ट सिन्डि...</td>\n",
       "    </tr>\n",
       "    <tr>\n",
       "      <th>5418</th>\n",
       "      <td>4957</td>\n",
       "      <td>Politics</td>\n",
       "      <td>राजविराज १२ चैत । सप्तरीको राजविराज स्थित देशक...</td>\n",
       "    </tr>\n",
       "    <tr>\n",
       "      <th>5419</th>\n",
       "      <td>5999</td>\n",
       "      <td>Sports</td>\n",
       "      <td>युवा तथा खेलकुदमन्त्री दलजित श्रीपाइलीले सातौँ...</td>\n",
       "    </tr>\n",
       "  </tbody>\n",
       "</table>\n",
       "<p>5420 rows × 3 columns</p>\n",
       "</div>"
      ],
      "text/plain": [
       "      Unnamed: 0       Category  \\\n",
       "0           2841  Entertainment   \n",
       "1           5829         Sports   \n",
       "2           5254       Politics   \n",
       "3           1866        Economy   \n",
       "4           5931         Sports   \n",
       "...          ...            ...   \n",
       "5415        2830  Entertainment   \n",
       "5416        6153         Sports   \n",
       "5417        3554      Interview   \n",
       "5418        4957       Politics   \n",
       "5419        5999         Sports   \n",
       "\n",
       "                                                   News  \n",
       "0     उषा पाण्डे। सेताेपर्दापछिल्लो समयका चर्चित कवि...  \n",
       "1     विद्युत् प्राधिकरणले चुहावट नियन्त्रण अभियान स...  \n",
       "2     राजविराज २४ माघ । मधेशी जनअधिकार फोरम नेपाल लो...  \n",
       "3     १६ पुस चितवन । नेपालमा गत एक वर्षमा २४ अर्ब रु...  \n",
       "4     जर्मनीलाई उपाधि रक्षाको चुनौतीविश्वकप फुटबलमा ...  \n",
       "...                                                 ...  \n",
       "5415  हल्ला चलेछ गीतमार्फत आफू अमेरिकामा पलायन नभएको...  \n",
       "5416  स्थापनाको आधा दसकपछि त्रिभुवन विश्वविद्यालय आफ...  \n",
       "5417  केही क्षेत्र मात्र नभई पूरै मुलुक दुष्ट सिन्डि...  \n",
       "5418  राजविराज १२ चैत । सप्तरीको राजविराज स्थित देशक...  \n",
       "5419  युवा तथा खेलकुदमन्त्री दलजित श्रीपाइलीले सातौँ...  \n",
       "\n",
       "[5420 rows x 3 columns]"
      ]
     },
     "execution_count": 152,
     "metadata": {},
     "output_type": "execute_result"
    }
   ],
   "source": [
    "df=pd.read_csv('cleaned_news_dataset.csv')\n",
    "df"
   ]
  },
  {
   "cell_type": "code",
   "execution_count": 90,
   "metadata": {},
   "outputs": [
    {
     "data": {
      "text/plain": [
       "5420"
      ]
     },
     "execution_count": 90,
     "metadata": {},
     "output_type": "execute_result"
    }
   ],
   "source": [
    "a=df['Category']=='Business'\n",
    "a.shape[0]"
   ]
  },
  {
   "cell_type": "code",
   "execution_count": 91,
   "metadata": {},
   "outputs": [
    {
     "data": {
      "text/plain": [
       "(5420, 2)"
      ]
     },
     "execution_count": 91,
     "metadata": {},
     "output_type": "execute_result"
    }
   ],
   "source": [
    "df.shape"
   ]
  },
  {
   "cell_type": "code",
   "execution_count": 92,
   "metadata": {},
   "outputs": [
    {
     "data": {
      "text/plain": [
       "{'Agriculture',\n",
       " 'Automobiles',\n",
       " 'Bank',\n",
       " 'Blog',\n",
       " 'Business',\n",
       " 'Economy',\n",
       " 'Education',\n",
       " 'Employment',\n",
       " 'Entertainment',\n",
       " 'Interview',\n",
       " 'Literature',\n",
       " 'Migration',\n",
       " 'Opinion',\n",
       " 'Politics',\n",
       " 'Society',\n",
       " 'Sports',\n",
       " 'Technology',\n",
       " 'Tourism',\n",
       " 'World'}"
      ]
     },
     "execution_count": 92,
     "metadata": {},
     "output_type": "execute_result"
    }
   ],
   "source": [
    "set(df['Category'])"
   ]
  },
  {
   "cell_type": "code",
   "execution_count": 93,
   "metadata": {},
   "outputs": [],
   "source": [
    "l_Agricutlure = len(df[df['Category'] == 'Agriculture'])\n",
    "l_Automobiles = len(df[df['Category'] == 'Automobiles'])\n",
    "l_Bank = len(df[df['Category'] == 'Bank'])\n",
    "l_Blog = len(df[df['Category'] == 'Blog'])\n",
    "l_Business = len(df[df['Category'] == 'Business'])\n",
    "l_Economy = len(df[df['Category'] == 'Economy'])\n",
    "l_Education = len(df[df['Category'] == 'Education'])\n",
    "l_Employment = len(df[df['Category'] == 'Employment'])\n",
    "l_Entertainment = len(df[df['Category'] == 'Entertainment'])\n",
    "l_Interview = len(df[df['Category'] == 'Interview'])\n",
    "l_Literature = len(df[df['Category'] == 'Literature'])\n",
    "l_Migration = len(df[df['Category'] == 'Opinion'])\n",
    "l_Politics = len(df[df['Category'] == 'Politics'])\n",
    "l_Society = len(df[df['Category'] == 'Society'])\n",
    "l_Sports = len(df[df['Category'] == 'Sports'])\n",
    "l_Technology = len(df[df['Category'] == 'Technology'])\n",
    "l_Tourism = len(df[df['Category'] == 'Tourism'])\n",
    "l_World = len(df[df['Category'] == 'World'])\n"
   ]
  },
  {
   "cell_type": "code",
   "execution_count": 94,
   "metadata": {},
   "outputs": [
    {
     "data": {
      "text/plain": [
       "187"
      ]
     },
     "execution_count": 94,
     "metadata": {},
     "output_type": "execute_result"
    }
   ],
   "source": [
    "l_Business"
   ]
  },
  {
   "cell_type": "code",
   "execution_count": 95,
   "metadata": {},
   "outputs": [
    {
     "data": {
      "application/vnd.plotly.v1+json": {
       "config": {
        "plotlyServerURL": "https://plot.ly"
       },
       "data": [
        {
         "type": "bar",
         "x": [
          "Agriculture",
          "Automobiles",
          "Bank",
          "Blog",
          "Business",
          "Economy",
          "Education",
          "Employment",
          "Entertainment",
          "Interview",
          "Literature",
          "Migration",
          "Opinion",
          "Politics",
          "Society",
          "Sports",
          "Technology",
          "Tourism",
          "World"
         ],
         "y": [
          100,
          142,
          406,
          258,
          187,
          491,
          139,
          199,
          543,
          224,
          198,
          474,
          540,
          188,
          647,
          103,
          261,
          209
         ]
        }
       ],
       "layout": {
        "template": {
         "data": {
          "bar": [
           {
            "error_x": {
             "color": "#2a3f5f"
            },
            "error_y": {
             "color": "#2a3f5f"
            },
            "marker": {
             "line": {
              "color": "#E5ECF6",
              "width": 0.5
             },
             "pattern": {
              "fillmode": "overlay",
              "size": 10,
              "solidity": 0.2
             }
            },
            "type": "bar"
           }
          ],
          "barpolar": [
           {
            "marker": {
             "line": {
              "color": "#E5ECF6",
              "width": 0.5
             },
             "pattern": {
              "fillmode": "overlay",
              "size": 10,
              "solidity": 0.2
             }
            },
            "type": "barpolar"
           }
          ],
          "carpet": [
           {
            "aaxis": {
             "endlinecolor": "#2a3f5f",
             "gridcolor": "white",
             "linecolor": "white",
             "minorgridcolor": "white",
             "startlinecolor": "#2a3f5f"
            },
            "baxis": {
             "endlinecolor": "#2a3f5f",
             "gridcolor": "white",
             "linecolor": "white",
             "minorgridcolor": "white",
             "startlinecolor": "#2a3f5f"
            },
            "type": "carpet"
           }
          ],
          "choropleth": [
           {
            "colorbar": {
             "outlinewidth": 0,
             "ticks": ""
            },
            "type": "choropleth"
           }
          ],
          "contour": [
           {
            "colorbar": {
             "outlinewidth": 0,
             "ticks": ""
            },
            "colorscale": [
             [
              0,
              "#0d0887"
             ],
             [
              0.1111111111111111,
              "#46039f"
             ],
             [
              0.2222222222222222,
              "#7201a8"
             ],
             [
              0.3333333333333333,
              "#9c179e"
             ],
             [
              0.4444444444444444,
              "#bd3786"
             ],
             [
              0.5555555555555556,
              "#d8576b"
             ],
             [
              0.6666666666666666,
              "#ed7953"
             ],
             [
              0.7777777777777778,
              "#fb9f3a"
             ],
             [
              0.8888888888888888,
              "#fdca26"
             ],
             [
              1,
              "#f0f921"
             ]
            ],
            "type": "contour"
           }
          ],
          "contourcarpet": [
           {
            "colorbar": {
             "outlinewidth": 0,
             "ticks": ""
            },
            "type": "contourcarpet"
           }
          ],
          "heatmap": [
           {
            "colorbar": {
             "outlinewidth": 0,
             "ticks": ""
            },
            "colorscale": [
             [
              0,
              "#0d0887"
             ],
             [
              0.1111111111111111,
              "#46039f"
             ],
             [
              0.2222222222222222,
              "#7201a8"
             ],
             [
              0.3333333333333333,
              "#9c179e"
             ],
             [
              0.4444444444444444,
              "#bd3786"
             ],
             [
              0.5555555555555556,
              "#d8576b"
             ],
             [
              0.6666666666666666,
              "#ed7953"
             ],
             [
              0.7777777777777778,
              "#fb9f3a"
             ],
             [
              0.8888888888888888,
              "#fdca26"
             ],
             [
              1,
              "#f0f921"
             ]
            ],
            "type": "heatmap"
           }
          ],
          "heatmapgl": [
           {
            "colorbar": {
             "outlinewidth": 0,
             "ticks": ""
            },
            "colorscale": [
             [
              0,
              "#0d0887"
             ],
             [
              0.1111111111111111,
              "#46039f"
             ],
             [
              0.2222222222222222,
              "#7201a8"
             ],
             [
              0.3333333333333333,
              "#9c179e"
             ],
             [
              0.4444444444444444,
              "#bd3786"
             ],
             [
              0.5555555555555556,
              "#d8576b"
             ],
             [
              0.6666666666666666,
              "#ed7953"
             ],
             [
              0.7777777777777778,
              "#fb9f3a"
             ],
             [
              0.8888888888888888,
              "#fdca26"
             ],
             [
              1,
              "#f0f921"
             ]
            ],
            "type": "heatmapgl"
           }
          ],
          "histogram": [
           {
            "marker": {
             "pattern": {
              "fillmode": "overlay",
              "size": 10,
              "solidity": 0.2
             }
            },
            "type": "histogram"
           }
          ],
          "histogram2d": [
           {
            "colorbar": {
             "outlinewidth": 0,
             "ticks": ""
            },
            "colorscale": [
             [
              0,
              "#0d0887"
             ],
             [
              0.1111111111111111,
              "#46039f"
             ],
             [
              0.2222222222222222,
              "#7201a8"
             ],
             [
              0.3333333333333333,
              "#9c179e"
             ],
             [
              0.4444444444444444,
              "#bd3786"
             ],
             [
              0.5555555555555556,
              "#d8576b"
             ],
             [
              0.6666666666666666,
              "#ed7953"
             ],
             [
              0.7777777777777778,
              "#fb9f3a"
             ],
             [
              0.8888888888888888,
              "#fdca26"
             ],
             [
              1,
              "#f0f921"
             ]
            ],
            "type": "histogram2d"
           }
          ],
          "histogram2dcontour": [
           {
            "colorbar": {
             "outlinewidth": 0,
             "ticks": ""
            },
            "colorscale": [
             [
              0,
              "#0d0887"
             ],
             [
              0.1111111111111111,
              "#46039f"
             ],
             [
              0.2222222222222222,
              "#7201a8"
             ],
             [
              0.3333333333333333,
              "#9c179e"
             ],
             [
              0.4444444444444444,
              "#bd3786"
             ],
             [
              0.5555555555555556,
              "#d8576b"
             ],
             [
              0.6666666666666666,
              "#ed7953"
             ],
             [
              0.7777777777777778,
              "#fb9f3a"
             ],
             [
              0.8888888888888888,
              "#fdca26"
             ],
             [
              1,
              "#f0f921"
             ]
            ],
            "type": "histogram2dcontour"
           }
          ],
          "mesh3d": [
           {
            "colorbar": {
             "outlinewidth": 0,
             "ticks": ""
            },
            "type": "mesh3d"
           }
          ],
          "parcoords": [
           {
            "line": {
             "colorbar": {
              "outlinewidth": 0,
              "ticks": ""
             }
            },
            "type": "parcoords"
           }
          ],
          "pie": [
           {
            "automargin": true,
            "type": "pie"
           }
          ],
          "scatter": [
           {
            "fillpattern": {
             "fillmode": "overlay",
             "size": 10,
             "solidity": 0.2
            },
            "type": "scatter"
           }
          ],
          "scatter3d": [
           {
            "line": {
             "colorbar": {
              "outlinewidth": 0,
              "ticks": ""
             }
            },
            "marker": {
             "colorbar": {
              "outlinewidth": 0,
              "ticks": ""
             }
            },
            "type": "scatter3d"
           }
          ],
          "scattercarpet": [
           {
            "marker": {
             "colorbar": {
              "outlinewidth": 0,
              "ticks": ""
             }
            },
            "type": "scattercarpet"
           }
          ],
          "scattergeo": [
           {
            "marker": {
             "colorbar": {
              "outlinewidth": 0,
              "ticks": ""
             }
            },
            "type": "scattergeo"
           }
          ],
          "scattergl": [
           {
            "marker": {
             "colorbar": {
              "outlinewidth": 0,
              "ticks": ""
             }
            },
            "type": "scattergl"
           }
          ],
          "scattermapbox": [
           {
            "marker": {
             "colorbar": {
              "outlinewidth": 0,
              "ticks": ""
             }
            },
            "type": "scattermapbox"
           }
          ],
          "scatterpolar": [
           {
            "marker": {
             "colorbar": {
              "outlinewidth": 0,
              "ticks": ""
             }
            },
            "type": "scatterpolar"
           }
          ],
          "scatterpolargl": [
           {
            "marker": {
             "colorbar": {
              "outlinewidth": 0,
              "ticks": ""
             }
            },
            "type": "scatterpolargl"
           }
          ],
          "scatterternary": [
           {
            "marker": {
             "colorbar": {
              "outlinewidth": 0,
              "ticks": ""
             }
            },
            "type": "scatterternary"
           }
          ],
          "surface": [
           {
            "colorbar": {
             "outlinewidth": 0,
             "ticks": ""
            },
            "colorscale": [
             [
              0,
              "#0d0887"
             ],
             [
              0.1111111111111111,
              "#46039f"
             ],
             [
              0.2222222222222222,
              "#7201a8"
             ],
             [
              0.3333333333333333,
              "#9c179e"
             ],
             [
              0.4444444444444444,
              "#bd3786"
             ],
             [
              0.5555555555555556,
              "#d8576b"
             ],
             [
              0.6666666666666666,
              "#ed7953"
             ],
             [
              0.7777777777777778,
              "#fb9f3a"
             ],
             [
              0.8888888888888888,
              "#fdca26"
             ],
             [
              1,
              "#f0f921"
             ]
            ],
            "type": "surface"
           }
          ],
          "table": [
           {
            "cells": {
             "fill": {
              "color": "#EBF0F8"
             },
             "line": {
              "color": "white"
             }
            },
            "header": {
             "fill": {
              "color": "#C8D4E3"
             },
             "line": {
              "color": "white"
             }
            },
            "type": "table"
           }
          ]
         },
         "layout": {
          "annotationdefaults": {
           "arrowcolor": "#2a3f5f",
           "arrowhead": 0,
           "arrowwidth": 1
          },
          "autotypenumbers": "strict",
          "coloraxis": {
           "colorbar": {
            "outlinewidth": 0,
            "ticks": ""
           }
          },
          "colorscale": {
           "diverging": [
            [
             0,
             "#8e0152"
            ],
            [
             0.1,
             "#c51b7d"
            ],
            [
             0.2,
             "#de77ae"
            ],
            [
             0.3,
             "#f1b6da"
            ],
            [
             0.4,
             "#fde0ef"
            ],
            [
             0.5,
             "#f7f7f7"
            ],
            [
             0.6,
             "#e6f5d0"
            ],
            [
             0.7,
             "#b8e186"
            ],
            [
             0.8,
             "#7fbc41"
            ],
            [
             0.9,
             "#4d9221"
            ],
            [
             1,
             "#276419"
            ]
           ],
           "sequential": [
            [
             0,
             "#0d0887"
            ],
            [
             0.1111111111111111,
             "#46039f"
            ],
            [
             0.2222222222222222,
             "#7201a8"
            ],
            [
             0.3333333333333333,
             "#9c179e"
            ],
            [
             0.4444444444444444,
             "#bd3786"
            ],
            [
             0.5555555555555556,
             "#d8576b"
            ],
            [
             0.6666666666666666,
             "#ed7953"
            ],
            [
             0.7777777777777778,
             "#fb9f3a"
            ],
            [
             0.8888888888888888,
             "#fdca26"
            ],
            [
             1,
             "#f0f921"
            ]
           ],
           "sequentialminus": [
            [
             0,
             "#0d0887"
            ],
            [
             0.1111111111111111,
             "#46039f"
            ],
            [
             0.2222222222222222,
             "#7201a8"
            ],
            [
             0.3333333333333333,
             "#9c179e"
            ],
            [
             0.4444444444444444,
             "#bd3786"
            ],
            [
             0.5555555555555556,
             "#d8576b"
            ],
            [
             0.6666666666666666,
             "#ed7953"
            ],
            [
             0.7777777777777778,
             "#fb9f3a"
            ],
            [
             0.8888888888888888,
             "#fdca26"
            ],
            [
             1,
             "#f0f921"
            ]
           ]
          },
          "colorway": [
           "#636efa",
           "#EF553B",
           "#00cc96",
           "#ab63fa",
           "#FFA15A",
           "#19d3f3",
           "#FF6692",
           "#B6E880",
           "#FF97FF",
           "#FECB52"
          ],
          "font": {
           "color": "#2a3f5f"
          },
          "geo": {
           "bgcolor": "white",
           "lakecolor": "white",
           "landcolor": "#E5ECF6",
           "showlakes": true,
           "showland": true,
           "subunitcolor": "white"
          },
          "hoverlabel": {
           "align": "left"
          },
          "hovermode": "closest",
          "mapbox": {
           "style": "light"
          },
          "paper_bgcolor": "white",
          "plot_bgcolor": "#E5ECF6",
          "polar": {
           "angularaxis": {
            "gridcolor": "white",
            "linecolor": "white",
            "ticks": ""
           },
           "bgcolor": "#E5ECF6",
           "radialaxis": {
            "gridcolor": "white",
            "linecolor": "white",
            "ticks": ""
           }
          },
          "scene": {
           "xaxis": {
            "backgroundcolor": "#E5ECF6",
            "gridcolor": "white",
            "gridwidth": 2,
            "linecolor": "white",
            "showbackground": true,
            "ticks": "",
            "zerolinecolor": "white"
           },
           "yaxis": {
            "backgroundcolor": "#E5ECF6",
            "gridcolor": "white",
            "gridwidth": 2,
            "linecolor": "white",
            "showbackground": true,
            "ticks": "",
            "zerolinecolor": "white"
           },
           "zaxis": {
            "backgroundcolor": "#E5ECF6",
            "gridcolor": "white",
            "gridwidth": 2,
            "linecolor": "white",
            "showbackground": true,
            "ticks": "",
            "zerolinecolor": "white"
           }
          },
          "shapedefaults": {
           "line": {
            "color": "#2a3f5f"
           }
          },
          "ternary": {
           "aaxis": {
            "gridcolor": "white",
            "linecolor": "white",
            "ticks": ""
           },
           "baxis": {
            "gridcolor": "white",
            "linecolor": "white",
            "ticks": ""
           },
           "bgcolor": "#E5ECF6",
           "caxis": {
            "gridcolor": "white",
            "linecolor": "white",
            "ticks": ""
           }
          },
          "title": {
           "x": 0.05
          },
          "xaxis": {
           "automargin": true,
           "gridcolor": "white",
           "linecolor": "white",
           "ticks": "",
           "title": {
            "standoff": 15
           },
           "zerolinecolor": "white",
           "zerolinewidth": 2
          },
          "yaxis": {
           "automargin": true,
           "gridcolor": "white",
           "linecolor": "white",
           "ticks": "",
           "title": {
            "standoff": 15
           },
           "zerolinecolor": "white",
           "zerolinewidth": 2
          }
         }
        }
       }
      }
     },
     "metadata": {},
     "output_type": "display_data"
    }
   ],
   "source": [
    "import plotly.graph_objects as go\n",
    "categories=['Agriculture','Automobiles','Bank','Blog','Business','Economy','Education','Employment','Entertainment','Interview','Literature','Migration','Opinion','Politics','Society','Sports','Technology','Tourism','World']\n",
    "\n",
    "fig = go.Figure([go.Bar(x=categories, y=[l_Agricutlure,l_Automobiles,l_Bank,l_Blog,l_Business,l_Economy,l_Education,l_Employment,l_Entertainment,l_Interview,l_Literature,l_Migration,l_Opinion,l_Politics,l_Society,l_Sports,l_Technology,l_Tourism,l_World])])\n",
    "fig.show()"
   ]
  },
  {
   "cell_type": "code",
   "execution_count": 96,
   "metadata": {},
   "outputs": [],
   "source": [
    "import tensorflow\n",
    "import pandas as pd\n",
    "import numpy as np\n",
    "from tensorflow.keras.preprocessing.text import Tokenizer\n",
    "from tensorflow.keras.models import Sequential\n",
    "from tensorflow.keras.layers import Activation, Dense, Dropout\n",
    "from sklearn.preprocessing import LabelBinarizer"
   ]
  },
  {
   "cell_type": "code",
   "execution_count": 97,
   "metadata": {},
   "outputs": [],
   "source": [
    "l_data = len(df)\n",
    "train_size = int(l_data*0.95)\n",
    "train_news = df['News'][0:train_size]\n",
    "train_category = df['Category'][0:train_size]\n",
    "\n",
    "\n",
    "test_news = df['News'][train_size:]\n",
    "test_category = df['Category'][train_size:]"
   ]
  },
  {
   "cell_type": "code",
   "execution_count": 98,
   "metadata": {},
   "outputs": [],
   "source": [
    "num_classes = 19\n",
    "vocab_size = 15000\n",
    "batch_size =10\n",
    "\n",
    "tokenizer = Tokenizer(num_words = vocab_size)\n",
    "tokenizer.fit_on_texts(train_news)\n",
    "\n",
    "x_train = tokenizer.texts_to_matrix(train_news,mode = 'tfidf')\n",
    "x_test = tokenizer.texts_to_matrix(test_news,mode = 'tfidf')\n"
   ]
  },
  {
   "cell_type": "code",
   "execution_count": 99,
   "metadata": {},
   "outputs": [
    {
     "data": {
      "text/plain": [
       "array([[0.        , 3.88950082, 3.43456379, ..., 0.        , 0.        ,\n",
       "        0.        ],\n",
       "       [0.        , 0.        , 0.84918896, ..., 0.        , 0.        ,\n",
       "        0.        ],\n",
       "       [0.        , 2.1763218 , 2.02641482, ..., 0.        , 0.        ,\n",
       "        0.        ],\n",
       "       ...,\n",
       "       [0.        , 1.75028333, 0.84918896, ..., 0.        , 0.        ,\n",
       "        0.        ],\n",
       "       [0.        , 1.99021576, 0.        , ..., 0.        , 0.        ,\n",
       "        0.        ],\n",
       "       [0.        , 1.99021576, 1.43780189, ..., 0.        , 0.        ,\n",
       "        0.        ]])"
      ]
     },
     "execution_count": 99,
     "metadata": {},
     "output_type": "execute_result"
    }
   ],
   "source": [
    "x_train"
   ]
  },
  {
   "cell_type": "code",
   "execution_count": 100,
   "metadata": {},
   "outputs": [],
   "source": [
    "encoder =  LabelBinarizer()\n",
    "encoder.fit(train_category)\n",
    "y_train = encoder.transform(train_category)\n",
    "# print(len(y_train[0]))\n",
    "# print(y_train)\n",
    "y_test = encoder.transform(test_category)"
   ]
  },
  {
   "cell_type": "code",
   "execution_count": 101,
   "metadata": {},
   "outputs": [
    {
     "name": "stdout",
     "output_type": "stream",
     "text": [
      "Model: \"sequential_3\"\n",
      "_________________________________________________________________\n",
      " Layer (type)                Output Shape              Param #   \n",
      "=================================================================\n",
      " dense_15 (Dense)            (None, 1024)              15361024  \n",
      "                                                                 \n",
      " activation_15 (Activation)  (None, 1024)              0         \n",
      "                                                                 \n",
      " dropout_12 (Dropout)        (None, 1024)              0         \n",
      "                                                                 \n",
      " dense_16 (Dense)            (None, 512)               524800    \n",
      "                                                                 \n",
      " activation_16 (Activation)  (None, 512)               0         \n",
      "                                                                 \n",
      " dropout_13 (Dropout)        (None, 512)               0         \n",
      "                                                                 \n",
      " dense_17 (Dense)            (None, 256)               131328    \n",
      "                                                                 \n",
      " activation_17 (Activation)  (None, 256)               0         \n",
      "                                                                 \n",
      " dropout_14 (Dropout)        (None, 256)               0         \n",
      "                                                                 \n",
      " dense_18 (Dense)            (None, 128)               32896     \n",
      "                                                                 \n",
      " activation_18 (Activation)  (None, 128)               0         \n",
      "                                                                 \n",
      " dropout_15 (Dropout)        (None, 128)               0         \n",
      "                                                                 \n",
      " dense_19 (Dense)            (None, 19)                2451      \n",
      "                                                                 \n",
      " activation_19 (Activation)  (None, 19)                0         \n",
      "                                                                 \n",
      "=================================================================\n",
      "Total params: 16,052,499\n",
      "Trainable params: 16,052,499\n",
      "Non-trainable params: 0\n",
      "_________________________________________________________________\n",
      "None\n"
     ]
    }
   ],
   "source": [
    "from tensorflow.keras.models import Sequential\n",
    "from tensorflow.keras.layers import Dense, Dropout, Activation, Flatten\n",
    "from tensorflow.keras.layers import Conv2D, MaxPooling2D\n",
    "\n",
    "model = Sequential()\n",
    "# Padding = 'same'  results in padding the input such that\n",
    "# the output has the same length as the original input\n",
    "\n",
    "model.add(Dense(1024,input_shape =(x_train.shape[1],)))\n",
    "model.add(Activation('relu'))\n",
    "model.add(Dropout(0.25))\n",
    "\n",
    "model.add(Dense(512))\n",
    "model.add(Activation('relu'))\n",
    "model.add(Dropout(0.25))\n",
    "\n",
    "\n",
    "model.add(Dense(256))\n",
    "model.add(Activation('relu'))\n",
    "model.add(Dropout(0.25))\n",
    "\n",
    "model.add(Dense(128))\n",
    "model.add(Activation('relu'))\n",
    "model.add(Dropout(0.5))\n",
    "\n",
    "\n",
    "model.add(Dense(num_classes))\n",
    "model.add(Activation('softmax'))\n",
    "\n",
    "\n",
    "\n",
    "print(model.summary())"
   ]
  },
  {
   "cell_type": "code",
   "execution_count": 102,
   "metadata": {},
   "outputs": [],
   "source": [
    "model.compile(loss = 'categorical_crossentropy',\n",
    "              optimizer = 'adam',\n",
    "              metrics = ['accuracy'])"
   ]
  },
  {
   "cell_type": "code",
   "execution_count": 103,
   "metadata": {},
   "outputs": [
    {
     "name": "stdout",
     "output_type": "stream",
     "text": [
      "Epoch 1/50\n",
      "464/464 [==============================] - 28s 60ms/step - loss: 2.0740 - accuracy: 0.4219 - val_loss: 1.3952 - val_accuracy: 0.6058\n",
      "Epoch 2/50\n",
      "464/464 [==============================] - 27s 59ms/step - loss: 1.0911 - accuracy: 0.7016 - val_loss: 1.1802 - val_accuracy: 0.7010\n",
      "Epoch 3/50\n",
      "464/464 [==============================] - 27s 58ms/step - loss: 0.6612 - accuracy: 0.8263 - val_loss: 1.0902 - val_accuracy: 0.7107\n",
      "Epoch 4/50\n",
      "464/464 [==============================] - 28s 60ms/step - loss: 0.4001 - accuracy: 0.8953 - val_loss: 1.2978 - val_accuracy: 0.7068\n",
      "Epoch 5/50\n",
      "464/464 [==============================] - 27s 59ms/step - loss: 0.2990 - accuracy: 0.9193 - val_loss: 1.6031 - val_accuracy: 0.7262\n",
      "Epoch 6/50\n",
      "464/464 [==============================] - 28s 60ms/step - loss: 0.2279 - accuracy: 0.9454 - val_loss: 1.8954 - val_accuracy: 0.7184\n",
      "Epoch 7/50\n",
      "464/464 [==============================] - 27s 59ms/step - loss: 0.2290 - accuracy: 0.9394 - val_loss: 2.0876 - val_accuracy: 0.7049\n",
      "Epoch 8/50\n",
      "464/464 [==============================] - 28s 59ms/step - loss: 0.2056 - accuracy: 0.9484 - val_loss: 1.9388 - val_accuracy: 0.6932\n",
      "Epoch 9/50\n",
      "464/464 [==============================] - 28s 60ms/step - loss: 0.1775 - accuracy: 0.9536 - val_loss: 2.5501 - val_accuracy: 0.6835\n",
      "Epoch 10/50\n",
      "464/464 [==============================] - 28s 59ms/step - loss: 0.2209 - accuracy: 0.9467 - val_loss: 2.8096 - val_accuracy: 0.6913\n",
      "Epoch 11/50\n",
      "464/464 [==============================] - 29s 62ms/step - loss: 0.1555 - accuracy: 0.9527 - val_loss: 2.6870 - val_accuracy: 0.6913\n",
      "Epoch 12/50\n",
      "464/464 [==============================] - 29s 62ms/step - loss: 0.2668 - accuracy: 0.9480 - val_loss: 3.0000 - val_accuracy: 0.6932\n",
      "Epoch 13/50\n",
      "464/464 [==============================] - 28s 60ms/step - loss: 0.2350 - accuracy: 0.9497 - val_loss: 2.1886 - val_accuracy: 0.6738\n",
      "Epoch 14/50\n",
      "464/464 [==============================] - 28s 59ms/step - loss: 0.1857 - accuracy: 0.9471 - val_loss: 3.5342 - val_accuracy: 0.6738\n",
      "Epoch 15/50\n",
      "464/464 [==============================] - 28s 60ms/step - loss: 0.2434 - accuracy: 0.9497 - val_loss: 3.0800 - val_accuracy: 0.6854\n",
      "Epoch 16/50\n",
      "464/464 [==============================] - 28s 61ms/step - loss: 0.2166 - accuracy: 0.9499 - val_loss: 5.0946 - val_accuracy: 0.6816\n",
      "Epoch 17/50\n",
      "464/464 [==============================] - 29s 62ms/step - loss: 0.2984 - accuracy: 0.9450 - val_loss: 3.8967 - val_accuracy: 0.7068\n",
      "Epoch 18/50\n",
      "464/464 [==============================] - 29s 62ms/step - loss: 0.2672 - accuracy: 0.9471 - val_loss: 4.4028 - val_accuracy: 0.7087\n",
      "Epoch 19/50\n",
      "464/464 [==============================] - 28s 61ms/step - loss: 0.2457 - accuracy: 0.9489 - val_loss: 3.6550 - val_accuracy: 0.6796\n",
      "Epoch 20/50\n",
      "464/464 [==============================] - 28s 60ms/step - loss: 0.2248 - accuracy: 0.9525 - val_loss: 4.3698 - val_accuracy: 0.6835\n",
      "Epoch 21/50\n",
      "464/464 [==============================] - 28s 60ms/step - loss: 0.2514 - accuracy: 0.9512 - val_loss: 4.6493 - val_accuracy: 0.6932\n",
      "Epoch 22/50\n",
      "464/464 [==============================] - 28s 61ms/step - loss: 0.2883 - accuracy: 0.9489 - val_loss: 4.6339 - val_accuracy: 0.6816\n",
      "Epoch 23/50\n",
      "464/464 [==============================] - 28s 59ms/step - loss: 0.2618 - accuracy: 0.9489 - val_loss: 3.8312 - val_accuracy: 0.7029\n",
      "Epoch 24/50\n",
      "464/464 [==============================] - 28s 61ms/step - loss: 0.1944 - accuracy: 0.9527 - val_loss: 4.3521 - val_accuracy: 0.6913\n",
      "Epoch 25/50\n",
      "464/464 [==============================] - 28s 61ms/step - loss: 0.1951 - accuracy: 0.9551 - val_loss: 6.2056 - val_accuracy: 0.7010\n",
      "Epoch 26/50\n",
      "464/464 [==============================] - 29s 62ms/step - loss: 0.3628 - accuracy: 0.9514 - val_loss: 4.9698 - val_accuracy: 0.6874\n",
      "Epoch 27/50\n",
      "464/464 [==============================] - 29s 61ms/step - loss: 0.3413 - accuracy: 0.9465 - val_loss: 5.2580 - val_accuracy: 0.7049\n",
      "Epoch 28/50\n",
      "464/464 [==============================] - 28s 60ms/step - loss: 0.2094 - accuracy: 0.9523 - val_loss: 5.9251 - val_accuracy: 0.7282\n",
      "Epoch 29/50\n",
      "464/464 [==============================] - 28s 60ms/step - loss: 0.2790 - accuracy: 0.9491 - val_loss: 6.6104 - val_accuracy: 0.7068\n",
      "Epoch 30/50\n",
      "464/464 [==============================] - 28s 60ms/step - loss: 0.2478 - accuracy: 0.9553 - val_loss: 6.3191 - val_accuracy: 0.6641\n",
      "Epoch 31/50\n",
      "464/464 [==============================] - 28s 61ms/step - loss: 0.2180 - accuracy: 0.9504 - val_loss: 8.2240 - val_accuracy: 0.6718\n",
      "Epoch 32/50\n",
      "464/464 [==============================] - 28s 61ms/step - loss: 0.3641 - accuracy: 0.9422 - val_loss: 6.4989 - val_accuracy: 0.6796\n",
      "Epoch 33/50\n",
      "464/464 [==============================] - 28s 61ms/step - loss: 0.2896 - accuracy: 0.9452 - val_loss: 5.6794 - val_accuracy: 0.6524\n",
      "Epoch 34/50\n",
      "464/464 [==============================] - 28s 60ms/step - loss: 0.2710 - accuracy: 0.9450 - val_loss: 5.3471 - val_accuracy: 0.6602\n",
      "Epoch 35/50\n",
      "464/464 [==============================] - 28s 60ms/step - loss: 0.2449 - accuracy: 0.9448 - val_loss: 11.5636 - val_accuracy: 0.6951\n",
      "Epoch 36/50\n",
      "464/464 [==============================] - 28s 61ms/step - loss: 0.3393 - accuracy: 0.9532 - val_loss: 9.7345 - val_accuracy: 0.7049\n",
      "Epoch 37/50\n",
      "464/464 [==============================] - 28s 60ms/step - loss: 0.2540 - accuracy: 0.9525 - val_loss: 8.1488 - val_accuracy: 0.6757\n",
      "Epoch 38/50\n",
      "464/464 [==============================] - 28s 60ms/step - loss: 0.2237 - accuracy: 0.9476 - val_loss: 8.6180 - val_accuracy: 0.6680\n",
      "Epoch 39/50\n",
      "464/464 [==============================] - 29s 63ms/step - loss: 0.4957 - accuracy: 0.9478 - val_loss: 5.4977 - val_accuracy: 0.6485\n",
      "Epoch 40/50\n",
      "464/464 [==============================] - 28s 61ms/step - loss: 0.4005 - accuracy: 0.9454 - val_loss: 10.3265 - val_accuracy: 0.7146\n",
      "Epoch 41/50\n",
      "464/464 [==============================] - 29s 62ms/step - loss: 0.1816 - accuracy: 0.9514 - val_loss: 9.4012 - val_accuracy: 0.7165\n",
      "Epoch 42/50\n",
      "464/464 [==============================] - 28s 61ms/step - loss: 0.2900 - accuracy: 0.9521 - val_loss: 10.7718 - val_accuracy: 0.7087\n",
      "Epoch 43/50\n",
      "464/464 [==============================] - 28s 61ms/step - loss: 0.1928 - accuracy: 0.9530 - val_loss: 10.0871 - val_accuracy: 0.7146\n",
      "Epoch 44/50\n",
      "464/464 [==============================] - 28s 60ms/step - loss: 0.1925 - accuracy: 0.9523 - val_loss: 9.6359 - val_accuracy: 0.6951\n",
      "Epoch 45/50\n",
      "464/464 [==============================] - 28s 61ms/step - loss: 0.1881 - accuracy: 0.9512 - val_loss: 11.2800 - val_accuracy: 0.6951\n",
      "Epoch 46/50\n",
      "464/464 [==============================] - 28s 60ms/step - loss: 0.2785 - accuracy: 0.9523 - val_loss: 11.2466 - val_accuracy: 0.6718\n",
      "Epoch 47/50\n",
      "464/464 [==============================] - 28s 60ms/step - loss: 0.1901 - accuracy: 0.9547 - val_loss: 11.1948 - val_accuracy: 0.6932\n",
      "Epoch 48/50\n",
      "464/464 [==============================] - 28s 61ms/step - loss: 0.3210 - accuracy: 0.9555 - val_loss: 10.3794 - val_accuracy: 0.6641\n",
      "Epoch 49/50\n",
      "464/464 [==============================] - 28s 60ms/step - loss: 0.2224 - accuracy: 0.9573 - val_loss: 15.6793 - val_accuracy: 0.7087\n",
      "Epoch 50/50\n",
      "464/464 [==============================] - 28s 60ms/step - loss: 0.2462 - accuracy: 0.9549 - val_loss: 13.7432 - val_accuracy: 0.7087\n"
     ]
    }
   ],
   "source": [
    "history = model.fit(x_train,y_train,\n",
    "                    batch_size = batch_size,\n",
    "                    epochs = 50,\n",
    "                    verbose = 1,\n",
    "                    validation_split = 0.1)"
   ]
  },
  {
   "cell_type": "code",
   "execution_count": 104,
   "metadata": {},
   "outputs": [
    {
     "name": "stdout",
     "output_type": "stream",
     "text": [
      "28/28 [==============================] - 0s 6ms/step - loss: 12.5816 - accuracy: 0.7269\n"
     ]
    },
    {
     "data": {
      "text/plain": [
       "[12.581564903259277, 0.7269372940063477]"
      ]
     },
     "execution_count": 104,
     "metadata": {},
     "output_type": "execute_result"
    }
   ],
   "source": [
    "test_score = model.evaluate(x_test,y_test,batch_size = batch_size,verbose = 1)\n",
    "test_score"
   ]
  },
  {
   "cell_type": "code",
   "execution_count": 105,
   "metadata": {},
   "outputs": [
    {
     "data": {
      "text/plain": [
       "array(['Agriculture', 'Automobiles', 'Bank', 'Blog', 'Business',\n",
       "       'Economy', 'Education', 'Employment', 'Entertainment', 'Interview',\n",
       "       'Literature', 'Migration', 'Opinion', 'Politics', 'Society',\n",
       "       'Sports', 'Technology', 'Tourism', 'World'], dtype='<U13')"
      ]
     },
     "execution_count": 105,
     "metadata": {},
     "output_type": "execute_result"
    }
   ],
   "source": [
    "text_classes = encoder.classes_\n",
    "text_classes"
   ]
  },
  {
   "cell_type": "code",
   "execution_count": 106,
   "metadata": {},
   "outputs": [
    {
     "name": "stdout",
     "output_type": "stream",
     "text": [
      "1/1 [==============================] - 0s 86ms/step\n",
      "हास्य कलाकार जितु नेपाल मुन्द्रे नेपाल वायु सेवा निगमको दूतका रुपमा नियुक्त भएका छन् ।निगमले सोमबार आफ्नो तीन वर्षे सुधार कार्य योजना प्रस्तुत गर्दै मुन्द्रेलाई ब्राण्ड एम्बेस्डरमा नियुक्त गरेको हो । एक कार्यक्रमकाबीच पर्यटनमन्त्री आनन्दप्रसाद पोख्रेलले मुन्द्रेलाई निगमको नियुक्ति पत्र हस्तान्तरण गरेका थिए ।कार्यक्रममा बोल्दै जितुले वायुसेवा निगमको प्रचारमा सक्दो सहयोग गर्ने प्रतिबद्धता व्यक्त गरेका छन् । सरकारको तर्फबाट अहिलेसम्मकै ठूलो जिम्मेवारी पाएकोमा खुशि व्यक्त गर्दै उनले भने निगमले आफ्नो सेवालाई चुस्त दुरुस्त बनाउन आवश्यक छ ।निगमलाई यसअघि निकै व्यंग्य गरिएको सम्झना गर्दै मुन्द्रेले अब भने राष्ट्रिय ध्वजाबाहक जहाजमा यात्रा गर्न सबैलाई सिफारीस गर्ने संकल्प गरेका छन् । नेपाली अर्थतन्त्र र पर्यटन क्षेत्रको विकासमा वायु सेवा निगमको ठूलो भूमीका हुने भन्दै उनले सेवा विस्तार गर्नु पर्ने आवश्यकता पनि औल्याए ।\n",
      "Actual label =  Entertainment\n",
      "Preticted label =  Tourism\n",
      "1/1 [==============================] - 0s 20ms/step\n",
      "आश्विन २२ २०७४नेपालमा नेकपा एमाले माओवादी केन्द्र र नयाँ शक्ति पार्टीबीच वाम एकता गर्ने घोषणा भएको परिपेक्षमा दक्षिण कोरियाका माओवादी र नयाँ शक्ति पार्टीका केही कार्यकर्ताहरुले भने पार्टी परित्याग गरेका छन् । उनीहरु संघीय समाजवादी फोरम ससफो मा प्रवेश गरेका छन् ।ससफो नेपालका प्रवास संगठन नेपाली संघीय समाज दक्षिण कोरियाद्वारा सौलस्थित नेपाल हाउसमा छुसकको अवसरमा आयोजित शुभकामना आदानप्रदान तथा पार्टी प्रवेश कार्यक्रममा उनीहरु पार्टी प्रवेश गरेका हुन् । सोही अवसरमा अन्य पार्टीका दर्जन कार्यकर्ताहरु ससफोमा प्रवेश गरेका छन् ।कार्यक्रममा नयाँ शक्ति कोरियाबाट केही समय अगाडि पार्टी परित्याग गरेका पूर्वकेन्द्रीय सचिव पासाङ नोर्बु शेर्पा केन्द्रीय सदस्य तथा शेर्पा संघ कोरियाका अध्यक्ष शेर साङ्बो शेर्पा र केन्द्रीय सदस्य तथा आदिवासी जनजाति महासंघ ख्वाङ्जुका अध्यक्ष पर्वत रार्इ पार्टी प्रवेश गरेका छन् ।त्यस्तै पार्टी प्रवेश गर्ने सर्लाही माओवादी केन्द्र परित्याग गर्दै सुबोध घलान र सङ्घीय लिम्बुवान मञ्च परित्याग गर्दै सुवास मोक्तानलगायत १७ नवप्रवेशीहरुलाई नेपाली संघीय समाज कोरिया अध्यक्ष महेन्द्र राईले स्वागत गरेका थिए ।पासांग नुर्बु शेर्पाले पछिल्लो समय वाम एकताको नाममा बाहुन एकता भएको र अब त्यस्ता एकल जातीय पार्टीले पिछाडिएको वर्ग समुदायको पहिचान स्थापित गर्न नसक्ने आरोप लगाउँदै अर्को पार्टीमा प्रवेश गरेको बताए । त्यस्तै शेर साङ्बो शेर्पाले आगामी दिनमा आदिवासी जनजाति मधेसी मुस्लिम थारूलगायत पिछड़िएका वर्ग समुदायको हक़ अधिकार सुनिश्चित गर्न र पहिचान स्थापित गर्न आफू ससफो प्रवेश गरेको स्पष्ट पारे ।\n",
      "Actual label =  Migration\n",
      "Preticted label =  Politics\n",
      "1/1 [==============================] - 0s 20ms/step\n",
      "मेरा लागि दशैं तिहार र छठ सबै हिजै हो जुन दिन मैले राष्ट्रप्रमुखलाई आफुले बनाएको बस्तीको साँचो हस्तान्तरण गरें । त्यो क्षण मलाई कति खुसी लाग्यो शब्दमा व्याख्या गर्न गार्हो हुन्छ । बस्ती निर्माणमा खटिएकाहरुले निकैबेर एकआपसमा हक गर्यौं । हर्षका आँशु पनि आए ।भूकम्पपछि मस्तले निदाएको पनि हिजै हो । बेलुका टेलिभिजन पनि त्यति हेरिनँ । आज एउटा सपना पूरा भयो भनेर बेलैमा सुतेँ । तर लागेको बानी के छुट्थ्यो  बिहान तीनै बजे नै निन्द्राले छोड्यो ।बस्ती निर्माण गर्दा म गिरानचौरमै बस्थेँ । पाँच सयको हाराहारीमा काम गर्ने मान्छेहरु थिए । म तीनै बजे उठ्थेँ सबैलाई उठाउथेँ । शौचालय सीमित थियो त्यसकारण पनि तीनै बजे उठ्नुपथ्र्यो । सबैजना एकैपटक उठे भने शौचालयको समस्या पथ्र्यो । चिया खाजा खाएर पाँच बजे त काममा जुटिसक्थ्यौं । तीन बजे उठेको बानीले छाडेन । हिजो पनि तीनै बजे ब्युझिएँ ।राष्ट्रपतिले भन्नुभयोअभियान देशब्यापी बनाउनुपर्छ राष्ट्रपति विद्यादेवी भण्डारीले सबै घरहरु अवलोकन गर्नुभयो । नमूना काम गरेको भन्दै बधाइ दिनुभयो । यस्तो काम देशव्यापी गर्नुपर्ने भन्दै अभियानलाई सफल पार्न सरकारसँग सल्लाह गरेर सहयोग गर्ने कुरा गर्नुभयो ।बस्ती घुम्नेक्रममै उद्योगमन्त्री नवीन्द्रराज जोशीले सोध्नुभयो तपाईलाई कसरी यस्तो महान काम गर्ने सोच आयो  मैले भनेँभूइँचालोपछि यस किसिमको सोच आयो ।नेपालको विकासका लागि सामुहिक आवास अनिवार्य निर्माण गर्नैपर्छ भनेर मैले जानकारी गराएँ । उद्योगमन्त्रीले पनि आगामी दिनमा यही स्टाइलमा काम गर्ने वचन दिनुभयो । र यसलाई बृहत बनाउने कुरा गर्नुभयो ।प्रकृतिले निकै दुःख दियो नेपालको कानुन अनुसार असार साउन र भदौमा खोलाको ढुंगा निकाल्न पाइँदैन । तर हाम्रो पुनर्निर्माणको काम बर्षायाममै सुरु भएको थियो । त्यसकारण नजिकै खोलामा भएको ढुंगा छाडेर  निकै पर गएर ल्याउनुपर्यो ।यो वर्ष प्रकृतिले पनि निकै सतायो । पानी अत्यधिक पर्यो । हामी निकै दुःख गरेर गिटी बालुवा जम्मा गथ्यौर्ं । आकाशबाट परेको पानीले हामीले जम्मा गरेको बालुवा र गिटी बगाएर लान्थ्यो । त्यो देख्दा मलाई सार्है नरमाइलो लाग्थ्यो ।घर बनाउन सुरु गरिसकेकाले बनाउनैपर्ने हाम्रो वाध्यता थियो । तर प्रकृतिले हाम्रो समस्या बुझ्ने कुरो भएन । हामी आफैंले प्रकृतिको समस्य बुझ्ने प्रयाश गर्दै काम गर्यौं ।चार वृद्धलाई गुमाउनु पर्दाको पीडा बस्तीमा चारजना बृद्ध हुनुहुन्थ्यो । उहाँहरु चारै जना काम गर्न सक्नु हुन्थेन । तर सँधै मसँगै हिँड्नुहुन्थ्यो । म जता काममा जान्थें उहाँहरु उतै जानुहुन्थ्यो ।धुर्मुस र सुन्तली त हाम्रा बाआमा हुन् भन्नुहुन्थ्यो । यस्तो घरमा बस्न पाइन्छ भनेर त हामीले सपनामा पनि देखेका थिएनौं तर बस्न पाउने भयौं भनेर निकै खुसी हुनुभएको थियो । नयाँ घरमा बस्ने उहाँहरुको निकै ठूलो चाहना थियो ।चारमध्ये दुईजना बृद्धको बस्ती निर्माण हुँदै गर्दा निधन भयो भने अरु दुईजनाको घर निर्माण भएपछि निधन भयो । उहाँहरुले हामीले बनाएको घर हेर्न त पाउनुभयो तर बस्न पाउनुभएन ।  अहिले पनि मलाई उहाँहरुको यादले सताइरहन्छ । बस्तीमा पुग्यो कि उहाँहरुको अनुहार झल्झली याद आउँछ ।उहाँहरुलाई नयाँ घरमा बसाउन पाएको भए म साँच्चै आभारी हुने थिएँ । उहाँहरुले मलाई आर्शिवाद दिनु हुने थियो । तर मलाई आर्शिवाद दिन नभ्याउँदै उहाँहरुले संसार छाड्नुभयो ।सास्ती कति भयो क्रमशः भन्ने छु भर्खर बस्ती बनेको छ । अहिले नै मलाई यस्तो समस्या पर्यो भन्दा कतिलाई नपच्न सक्छ । कति दुःख भएको छ त्यो मलाई मात्रै थाह छ । दुःखका कथा क्रमशः भन्दै जाने छु ।सुरुमा स्थानीयलाई कन्भिन्स गर्न निकै गार्हो भएको थियो । धुर्मुसेले पैसा उठाउन आएको हो यसले घर बनाउँदैन भनेर भन्नेहरु धेरै थिए । यो सस्तो लोकपि्रयता खोज्दै आएको पनि भने । तर म आफ्नो योजना पूरा गर्ने सोचमा थिएँ ।जब बस्ती निर्माणले गति लियो सहयोगी हातहरुको ओइरो लाग्यो । कतिले यस्तो पनि भने धुर्मुसजी तपाई सहयोग स्थगित नगर्नुस् । जति उठ्छ उठाउनुस् । यहाँ कामै नगरी खाने त छन् । तपाईले त काम गर्नुभएको छ । तपाई पनि खानुस् । तर मेरो उद्देश्य पैसा कमाउने थिएन । मैले बस्ती निर्माणलाई पुग्ने पैसा उठेपछि सहयोग बन्द गरेँ ।नगरेरै देश नबनेको हो गरे बनाउन सकिन्छ म कलाकारिता क्षेत्रको मान्छे । मलाई घर कसरी बनाउने के गरेमा सभ्य बस्ती निर्माण गर्न सकिन्छ भन्ने थाहा थिएन । तर मैले प्रयाश गरेँ । सफल भइयो । मेरो अनुभवले भन्छ हाम्रो देश नबनेको हामीले नगरेरै हो गरे देश बनाउन सकिन्छ ।यदि राजनीतिक दलका नेताहरुले चाहने हो भने सबै सम्भव छ । अहिले राजनीति व्यवसायजस्तो बनेको छ । त्यसकारण पनि राजनितिज्ञहरु देश बनाउने कुरामा चासो दिँदैनन् ।केहीलाई राम्रो काम गर्दा रोजीरोटी गुम्ला कि भन्ने डर छ । तर म ठोकुवा गर्छु जनताको साथ समर्थन र नेतृत्वको दुरदर्शिता भयो भने देश बन्छ । बन्नैपर्छ । नबनेर सुःखै छैन ।अनलाइनखबरसँगको कुराकानीमा आधारितयो पनि पढ्नुहोस्नयाँ नेपाल बनाउन कति जोडी धुर्मुससुन्तली चाहिएला\n",
      "Actual label =  Opinion\n",
      "Preticted label =  Opinion\n",
      "1/1 [==============================] - 0s 20ms/step\n",
      "काठमाडौं । दीपेन्द्रसिंह थापाको दोस्रो कविता संग्रह सहयात्री शब्दहरू विमोचन गरिएको छ। शब्दहार क्रियसन्सद्वारा प्रकाशित यो पुस्तक प्राज्ञ श्रवण मुकारुङले लोकार्पण गरेका हुन् । समारोहमा लेखक तथा समीक्षक रामगोपाल आशुतोष र रामेश्वर राउत मातृदासले कवि थापाको व्यक्तित्व र कृतित्वमाथि चर्चा गरेका थिए । आशुतोषले कवि थापाका कविता सम्प्रेष्य र हृदयस्पर्शी रहेको बताए। मातृदासले समकालीन विषयवस्तुलाई मार्मिक ढंगले चित्रण गरिएको उल्लेख गरे। कवि थापाले पुस्तकभित्रका केही प्रतिनधि कविता वाचन गरेका थिए ।\n",
      "Actual label =  Entertainment\n",
      "Preticted label =  Migration\n",
      "1/1 [==============================] - 0s 22ms/step\n",
      "जननेता मदन भण्डारी मारिनु अघिसम्म कुनै पनि एक कारणले विवादित थिए भने उनले २०४९ को कर्मचारी आन्दोलनमा देखाएको एक्यवद्धताका कारण नै थिए ।सिंहदरवारको दैलोमा उनले कर्मचारी आन्दोलनका बेला प्रहरीबाट अश्रुग्याँस खाएर बटुलेको सहानुभूति भन्दा कर्मचारी उचालेर तत्कालिन प्रधानमन्त्री गिरीजाप्रसाद कोइराला नेतृत्वको एकमना कांग्रेस सरकारलाई हायलकायल पार्न खोजेबाट कमाएको आलोचनाको आयतन कयौं गुणा ठूलो भयो । एमालेको कर्मचारी पकडमा लिने खुल्ला अभियानको नेतृत्व पनि थियो त्यो शायद । त्यसैकारण सर्वत्र प्रशंसित मदन पनि आलोचनामुक्त भएनन् ।त्यो प्रसंगको अर्को मानक सन्देश के हो भने एमालेले २०४६ पछि नै सिंहदरवारको कर्मचारीतन्त्रमा पकड जमाउन जुन भगिरथ प्रयत्न गरेको थियो अहिले त्यो वैधानिक रुपमै पुरा भएको छ । लाखौं एमालेजनलाई उत्साहित र तरंगित गर्ने यो चुनावी जित खासमा एमाले वा जुनसुकै दलका जित्ने कर्मचारीमण्डली बाहेक अरुका लागि अपेक्षित खुसी होइन । बरु हो त कर्मचारी नै बैकल्पिक सरकारका रुपमा सिंहदरवारका रैथाने बनेको एउटा बेथितिको भयावह श्रीगणेश ।निसन्देहः निजामति कर्मचारी संगठनको आधिकारिक ट्रेड युनियनको चुनावमा एमाले समर्थित संगठन पहिलो कांग्रेस निकट नेपाल निजामति कर्मचारी युनियन दोस्रो हुनुले कर्मचारीतन्त्रको प्रतिनिधित्व कुन दलसँग सम्वद्ध कर्मचारीबाट कुन स्तरमा हुने गरेको छ भन्ने चित्र पनि सार्वजनिक हुन पुगेको छ । तेस्रो स्थानमा माओवादी निकट नेपाल राष्ट्रिय कर्मचारी संगठन निजामति र मधेसी दल निकट नेपाल मधेसी निजामति कर्मचारी मञ्च चौथो हुनुको सन्देश के पनि हो भने स्थायी सरकारमा एमाले र कांग्रेसकै डाडूपन्यू छ । निर्वाचनमा पहिलो हुनेले अध्यक्ष र कोषाध्यक्ष दोस्रो हुनेले महासचिव तेस्रोले उपाध्यक्ष र चौथो हुनेले सचिव पाउने आधिकारीक ट्रेड युनियनको वैधानिक व्यवस्थापछि सिंहदरवारको स्थायी सरकारमा सबै दलको भाग शान्ति जय नेपाल गर्ने मिलिजुली शासक टीम तयार भएकै छ । दलैपिच्छेका शाखा युनियनहरु अब एकीकृत संगठित र वैधानिक भएका छन् ।एमालेपन्थीहरु यसबाट हौसिएका छन् स्थानीय तहदेखि सिंहदरवारसम्म पार्टीको वर्चस्व कायम भाएकोमा । एमालेको छायाँ संगठनले बाजी मार्नु उसै पनि स्वभाविक थियो किनकी पूर्व सचिव रामेश्वर खनालकै शब्दमा एमालेको उही सुख अर्थात सुब्बा खरदार प्रवृत्तिले । हिजो ५० को दशकदेखि रोपिएको सिंहदरवारको एमालेपन्थ बल्ल वैधानिक भएको छ एमालेको पल्ला भारी हुँदा सबै मख्ख । कांग्रेसीहरुले दोस्रो हँुदैमा चित्त बुझाएका छन् । बाँकीलाई हैसियत बढाउने खजाना मिलेको छ । तर साँच्चै कर्मचारीतन्त्रलाई जो स्थायी जनसेवक मान्छन् उनीहरुको होसहवास उडेको छ । असली कर्मचारीतन्त्र र मन्त्रको स्थायी मृत्यु भएकोमा दलीय राजनीति कर्मचारी जगतमा संस्थागत भएकोमा ।लेखक सूर्य खड्काअब एउटा जनताबाट चुनिएर सिंहदरवार छिरेको मन्त्रीलाई ट्रेड युनियनको निर्वाचित कर्मचारीले समान हैसियतको आनीबानी व्यवहार देखाउँदा अनौठो हुने छैन । हार्ने वा अल्पमतमा पर्नेले औकात थाहा पाएपछि मात्रै अनेकथरी देख्नुले कुनै माने राख्दैन । जंगल संघर्षका जगबाट सिंहदरवार छिरेका र जनयुद्धमा जाँदा लोकसेवा आयोगको दैलो नदेखेका माओवादीहरु आधिकारिक ट्रेड युनियनको चुनावमा अन्तिमतिर हुनु स्वभाविक थियो । शायद देश फेर्न निस्कदा आफै फेरिदाको सबक उनीहरुले अब समीक्षा गर्लान् ।पक्षमा जतिसुकै तर्क गरिए पनि यसबाट दलीय प्रभावमुक्त कर्मचारी संयन्त्रको स्वच्छ जनपरिकल्पनामाथि हठात बलात्कार नै भएको छ । कर्मचारी कसैका हैनन् शिवाय जनताका भन्ने लोकमान्यताको औपचारिक स्खलन भएको छ । अब पार्टी राजको छायाँ कर्मचारीको पद र जिम्मेवारीमा पनि सदर भएको छ । कर्मचारी मात्रै देश र जनताका लागि हुन् भन्ने शास्वत मान्यताको विघटन यहीँनेरबाट भएको छ । निजामती सेवालाई राजनीतिक प्रभावबाट मुक्त पार्ने बाहनामा अघि सारेको आधिकारिक ट्रेड युनियनको अवधारणाले झनै ठूलो राजनीतिक विकृति संस्थागत गर्ने शिवाय के गर्यो  स्थायी सरकामाथिको स्थायी प्रश्न हो चुनावसँगै स्थापित भएको । आधिकारिक ट्रेड युनियन जन्माउँदा सरकारले पार्टीगत कर्मचारी संगठनहरुलाई किन विघटन नगरी उल्टै उनीहरुलाई आआफ्ना पार्टीका झोलीका आधारमा मत माग्न दियो  अनि पार्टीगत प्रतिनिधित्वकै आधारमा पदमा बहाल गर्ने वैधानिक व्यवस्था किन गर्यो पार्टीका भातृ संगठनहरुलाई संस्थागत गरी नेतृत्व छानेर आधिकारीक युनियन बनाउनुको सिधा सन्देश यही हो कि अब दलीय आधारमा नै ट्रेड युनियन चल्छ र यो सुरुवात हो । के यो जनमुखी कर्मचारी संयन्त्रको अपेक्षा र सर्वस्वीकृत कर्मचारी सबैका साझा देश र जनताका सेवक भन्ने लोकमान्यताको ठाडो उलंघन र खिसिटिउरी हैन त्यसो त राजनीतिमुक्त कर्मचारी प्रशासन दलहरुको हात्तीको देखाउने दाँत मात्रै हो भन्ने कुरो ओपन सेक्रेट थियो नै त्यही प्रवृत्तिलाई अहिले सत्ताभित्र र बाहिरका सबै दलले सदर गरिदिएका हुन् । दलका नेताको बिगबिगीले आजित जनतालाई अब कर्मचारी भित्रका दलगत नेताको द्वैध शासनको भार र मार पनि थपिने पक्का छ । दलका नेताहरु भ्रष्ट हुँदा सिंगै देश रोगाएको विकास ठप्पप्रायः भएको र जनता दुब्लाउदै गएको कहालिलाग्दो तस्वीरमा यो प्रकरणले अर्को बिकृत ईंटा थपेकै छ ।ट्रेड युनियनको नाममा संस्थागत बदमासीको चित्र देखाउन महालेखा परीक्षकको कार्यालयको पछिल्लो एउटा प्रतिवेदन नै काफी छ । कार्यालयको ५३ औँ वाषिर्क प्रतिवेदन अनुसार सरकारी कार्यालयतर्फ रु ४८ अर्ब ७७ करोड ८८ लाख र सङ्गठित संस्था एवम् समितितर्फ रु सात अर्ब ८७ करोड ४२ लाख गरी रु ५६ अर्ब ६५ करोड ३० लाख बेरुजु फछ्र्योट गर्न बाँकी छ । सरकारी कार्यालय नेपाल सरकारको पूर्ण स्वामित्वका सङ्गठित संस्था बोर्ड परिषद् समिति तथा जिल्ला विकास समितिले सार्वजनिक वित्तीय व्यवहारमा जवाफदेहीपन नदेखिएको औंल्याउँदै आर्थिक वर्ष ०७१७२ को आर्थिक कारोबारको लेखापरीक्षण प्रतिवेदनमा रु तीन खर्ब २८ अर्ब ५२ करोड कारबाही गरी टुङ्गो लगाउनुपर्ने देखाइएको छ ।स्मरणीय छ यति विघ्न बेरुजु देखिएका ती सबै निकायमा सधै हामीमुहाली गर्ने उनै स्थायी सरकार भनिने कर्मचारी नै हुन् । महालेखाका अनुसार गत वर्षको तुलनामा टुङ्गो लगाउनुपर्ने उक्त रकम २०२८ प्रतिशतले बढेको छ । हो जनताका सेवक मानिने सरकारी कर्मचारीले संगठित वा असंगठित रुपमा देशको ढुकुटीमाथि कसरी बदमासी गरेका छन् भन्ने ठूलो संसार चियाउन यो प्रसंग सानो ऐना मात्रै हो ।अब कर्मचारीहरु नै दलका भातृसंस्थाका रुपमा समानान्तर सरकार झैं आफैँ धामी आफैँ बोक्सी प्रवृत्तिमा उदाइरहँदा चाहिँ देशको कुन गति हुने  निर्वाचित हुनेहरुले मात्रै हैन टिकट दिएर चुनाव लडाउने दलहरुप्रति पनि यो प्रश्न स्थायी रहनेछ सेवाग्राही सरकारी कार्यालय धाउदै गर्दा । यसमानेमा यो कदमविरुद्ध निर्वाचित हुनेहरुलाई बधाई नदिने र सकेसम्म बहिस्कृत गर्ने संस्कृति नै जनस्तरबाट सुरु भएमा त्यो हाललाई सांकेतिक नै सही दीगो प्रतिवाद होला क किर्मचारीको राजनीतिकरणका विरुद्धमा के निर्वाचित कर्मचारी र तिनलाई जिताउन अहोरात्र खटिने दलका कर्मचारीमण्डलीले काजका नाममा काम नगरी सरकारी तलबभत्ता खाने कुसंस्कृतिको समूल अन्त्य गर्न सक्छन् त  ट्रेड युनियनका पदाधिकारीले आआफ्ना कुर्सीमा बस्दै हाताहाती काम गर्दिएर सेवाग्राहीको वाहवाही कमाउने अपेक्षा गर्नु जनताको भ्रम हैन भनेर प्रमाणित गरिदिन्छन् त मुहानै फोहर छ भने त्यो स्तरको शुद्धता चुस्तता र जवाफदेहीताको अपेक्षा सेवाग्राहीले राखेमा त्यो आफैमाथिको कठोर व्यंग्य शिवाय के होला र  तैपनि कामना गरौं आधिकारिक भएकाहरुले उदाहरणीय बनेर नयाँ कीर्तिमानी नजिर राख्लान कि\n",
      "Actual label =  Opinion\n",
      "Preticted label =  Opinion\n",
      "1/1 [==============================] - 0s 18ms/step\n",
      "ओली र प्रचण्ड तेस्रो पटक अध्यक्ष बन्न नपाउने ४ असार काठमाडौं । नेपाल कम्युनिस्ट पार्टी ने क पा का केन्द्रदेखि जिल्लासम्मका पदाधिकारीहरु एउटा पदमा लगातार दुई कार्यकालभन्दा बढी रहन नपाउने भएका छन् । केन्द्रीयदेखि जिल्ला अध्यक्षसम्म सबै बढीमा २ कार्यकालमात्र उम्मेदवार हुन पाउने व्यवस्था विधानमा गरिएको हो । साथै आरक्षण कोटामा एक व्यक्तिले दुई पटकभन्दा बढी प्रतिस्पर्धा गर्न पाउने छैनन्\n",
      "Actual label =  Politics\n",
      "Preticted label =  Opinion\n",
      "1/1 [==============================] - 0s 18ms/step\n",
      "९ असोज कञ्चनपुर । वन कार्यालय कञ्चनपुरले जङ्गली हात्तीको झुन्डबाट बालीनालीमा क्षति पुगेका किसानलाई क्षतिपूर्ति उपलब्ध गराएको छ ।गत वर्ष हात्तीले बालीनालीमा क्षति पुर्याएका त्रिभुवनबस्ती परासन रैकवार विचवा र वाइसेविचवाका किसानलाई क्षतिपूर्ति रकम उपलब्ध गराएको हो । पहिलो चरणमा ८४ र दोस्रोचरणमा ६५ जनालाई क्षतिको मूल्याङ्कनका आधारमा पाँच हजार र १० हजार रूपैयाँका दरले यस वर्ष क्षतिपूर्ति रकम उपलब्ध गराएको वन कार्यालयका प्रमुख शिवप्रसाद शर्माले बताए ।हालसम्म रु सात लाख रकम हात्तीले क्षति पुर्याएका किसानलाई क्षतिपूर्तिबापत उपलब्ध गराएका छौँ  उनले भने ।पीडित किसानको निवेदन कृषि विकास कार्यालयले मूल्याङ्कन गरेको क्षतिको विवरण लालपुर्जा नागरिकता प्रहरीको मुचुल्काका आधारमा क्षतिपूर्तिका लागि क्षेत्रीय वन निर्देशनालयमा सिफारिस गरी रकम उपलब्ध गराउने व्यवस्था रहेको उनले बताए ।हात्तीको झुन्डले विशेष गरी धान फल्ने बेला उखु उत्पादन हुने बेला र गहुँ पाक्ने बेला यहाँ बढी क्षति पुर्याउने गरेको छ ।भारतीय दुधुवा नेसनलपार्कबाट छिर्ने जङ्गली हात्तीको झुन्डले यहाँका पुनर्वास नगरपालिका दोधारा चाँदनी नगरपालिका बाइसे विचवा रैकवार विचवा शङ्करपुर देखतभूली र कृष्णपुर नगरपालिका क्षेत्रमा बढी क्षति पुर्याउने गरेको छ ।\n",
      "Actual label =  Economy\n",
      "Preticted label =  Economy\n",
      "1/1 [==============================] - 0s 21ms/step\n",
      "१९ कात्तिक काठमाडौं । एभरेष्ट बैंकमा नयाँ प्रमुख कार्यकारी अधिकृत सिइओले कार्यभार सम्हालेका छन् ।पञ्जाव नेशनल बैंक पिएनबी का प्रतिनिधि सोमेश्वर सेठलाई प्रमुख कार्यकारी अधिकृतका रुपमा काम थालेका हुन् ।उनी दुई सता अघि नै उक्त पदमा नियुक्त भएका थिए । यसअघि एके आहलुवालिया सिइओका रुपमा कार्यरत थिए । उनको कार्यकाल सकिएपछि सेठले कार्यभार सम्हालेका हुन् ।एभरेष्टमा प्रमुख कार्यकारी पञ्जाव नेशनल बैंकबाटै ल्याउने गरेको छ । एभरेष्टमा पञ्जाव नेशनल बैंकको २० प्रतिशत शेयर लगानी छ ।\n",
      "Actual label =  Bank\n",
      "Preticted label =  Bank\n",
      "1/1 [==============================] - 0s 20ms/step\n",
      "१ कात्तिक काठमाडौं । चालु आर्थिक बर्ष २०७३ ७४ को सुरुवातमै नेपाल भित्रिने रेमिट्यान्स रकममा गिरावट आएको छ । गतबर्षको तुलनामा यस बर्षको सोही समयमा रेमिटेन्सबापत नेपाल आउने विदेशी मुद्राको आप्रवाहमा २ दशमलब ५ प्रतिशतले कमी आएको हो ।नेपाल राष्ट्र बैकका निर्देशक राजेन्द्र पण्डितले आर्थिक बर्षको सुरुको महिनामा रेमिट्यान्समा कमी आएको बताए ।खाडी देशको आर्थिक संकट विदेशिने कामदारको संख्यमा आएको कमी तेलको मूल्यमा आएको गिरावटले प्रत्यक्ष श्रमीकको ज्यालामा परेको प्रभाव लगायत कारणले रेमिटेन्समा कमी आएको निर्देशक पण्डितले बताए ।साथै विभिन्न समयमा नेपाल सरकारले ल्याएका निति नियम तथा काम गर्ने देशका नीति नियमले पनि रेमिट्यान्समा प्रभाव पार्ने तर्क उनको छ । पछिल्लो समय कामका लागि विदेशिने नेपाली कामदारको संख्यमा निरन्तर गिरावट आइरहेको छ ।निर्देशक पण्डितले दशैंसहितका चाडबाडको बेला भने अघिल्लो वर्षकै हाराहारीमा विदेशी मुद्रा भित्रिएकोे जानकारी दिए । असोज र कात्तिकमा दशैं तिहार छठ इद जस्ता ठूला पर्व पर्ने भएकाले यस बेला रेमिटेन्स बढ्ने अनुमान राष्ट्र बैकको छ ।चाडबाडको समयमा रेमिट्यान्स धेरै भित्रिने गर्दछ । वैदेशिक रोजगारीमा जानेले पठाएको रेमिटेन्सको ठुलो हिस्सा दैनिक उपभोगमा खर्च हुने गरेको छ । त्यसैगरी ऋण तिर्न र बालबालिकाको शिक्षामा खर्च हुने गरेको छ ।विभिन्न अध्ययन प्रतिवेदनहरुका आधारमा रेमिटेन्सबापत प्राप्त रकमको अत्यन्तै कम २ दशमलब ४ प्रतिशत मात्रै पुँजी निर्माणमा प्रयोग हुने गरेको छ ।\n",
      "Actual label =  Employment\n",
      "Preticted label =  Economy\n",
      "1/1 [==============================] - 0s 17ms/step\n",
      "नेपाली एथ्लेटिक्सका महान एवं कीर्तिमानी खेलाडी बैकुण्ठ मानन्धर र नेपाली खेलकुद दुवै एकअर्काका परिपूरक हुन् । एक सिक्काका दुई पाटाजस्ता । ७० को दशकमा नेपाली खेलकुदको एथलेटिक्स छिरेका बैकुण्ठले लगभग २० वर्ष एक्लैले राज गरे ।नेपाली खेलकुद इतिहासको पाना पल्टाउँदा म्याराथनका पूर्वकीर्तिमानधारी बैकुण्ठ कसैगरी छुट्दैछन् । उनको नाम आएन भने नेपाली खेलकुदको इतिहासै अपुरो हुन्छ ।बैकुण्ठ यस्ता खेलाडी हुन् जसको परिचय र कीर्तिमानको व्याख्या कसैले गरिरहन पर्दैन । उनको चर्चा नेपालमा मात्रै होइन दक्षिण एसियाली राष्ट्रमा समेत लिजेन्डका रूपमा आउँछ ।नेपालको राष्ट्रिय झन्डा बोकेर ४ पटक ओलम्पिक ट्र्याकमा दौडिएका बैकुण्ठले सन् १९८७ मा राखेको राष्ट्रिय कीर्तिमान अहिलेसम्म कसैले तोड्न सकेको छैन । २९ वर्षअघिको त्यो कीर्तिमान नेपालमा मात्रै होइन दक्षिण एसियाली देशका खेलाडीले समेत तोड्न सकेका छैनन् ।तर आफ्नो रेकर्ड कसैले ब्रेक नगर्दा उनलाई खुसी भने लाग्दैन । मैले रेकर्ड बनाएको धेरै भइसक्यो अहिलेसम्म नतोडिँदा मलाई दुःख लागेको छ बाह्रखरीसँग अन्तरंग गफिँदै उनले एक साँझ भने त्यो समय र अहिले एथ्लेटिक्समा निकै परिवर्तन आएको छ । म चाहन्छु मेरो रेकर्ड ब्रेक होस् । प्रत्येक वर्ष नयाँनयाँ खेलाडीले रेकर्ड बनाऊन् । तर हामीले २९ वर्ष पुरानो रेकर्डमा गर्व गर्नुपर्ने अवस्था दुःखद हो ।सन् १९८७ नोभेम्बरमा भारत कोलकातामा सम्पन्न दक्षिण एसियाली खेलकुद साफको तेस्रो संस्करणमा बैकुण्ठले बनाएको २ः१५ घण्टाको रेकर्ड अहिलेसम्म तोडिएको छैन । गत वर्ष माघ र फागुनमा भारतमै आयोजित १२ औं दक्षिण एसियाली खेलकुद सागमा समेत उनको रेकर्ड तोडिएन ।बैकुण्ठ सागमा लगातार तीन स्वर्ण जित्ने पहिलो खेलाडीसमेत हुन् । उनले जितेका तीनै स्वर्णका फरकफरक इतिहास र फरकफरक कथा छन् ।सन् १९८३ मा काठमाडाैंमा सम्पन्न पहिलो साफमा स्वर्ण जित्दै नेपाललाई पहिलो स्वर्ण पदक दिलाउने खेलाडी बने । दुई वर्षपछि सन् १९८५ मा बंगलादेशको ढाकामा सम्पन्न दोस्रो साफमा पनि उनले स्वर्ण जिते । त्यो सागमा नेपाललाई एकमात्र स्वर्ण बैकुण्ठले नै दिलाएका थिए । त्यसपछि सन् १९८७ मा कोलकातामा सम्पन्न तेस्रो साफमा उनले कीर्तिमानी स्वर्णमा ह्याट्रिक गरे । उनले नयाँ समयको कीर्तिमानसहित स्वर्ण जिते । तोडिनै नसकेको कीर्तिमान यही हो ।त्यसबाहेक विश्व खेलकुदको कुम्भ मेला ओलम्पिकमा उनले लगातार चारपटक सन् १९७६ मोन्ट्रियल १९८० मस्को १९८४ लसएन्जलस र १९८८ सउलमा सहभागिता जनाए । धेरैपटक ओलम्पिकमा भाग लिने एक्लो नेपाली खेलाडीको कीर्तिमान पनि हो यो ।विसं २००९ कात्तिक चतुर्दशी पूर्णिमाका दिन कालीमाटीमा जन्मिएका बैकुण्ठ त्यत्तिकै बैकुण्ठ मानन्धर भएका होइनन् । उनले गरेको मेहेनत खेलप्रतिको भीष्मप्रतिज्ञा लगावको कथा लामो छ । मनमा जसरी पनि धावक बन्ने अठोट थियो । भोलि के पाइएला वा नपाइएला भनेर कहिल्यै सोचेनन् । लगातार मेहनत गर्दै गए । दौडिँदै गएँ । सफलता पाउँदै गए ।त्यसबेला बैकुण्ठले दैनिक दुई पटक अभ्यास गर्थे । बिहान ५ बजेपछि लगातार २३ घण्टा अभ्यासमा जोतिन्थे । त्यसपछि दिउँसो २ बजे रंगशाला पुग्थे । अनि फेरि अभ्यासमा जुट्थे । त्यसकै फल हो खेल छाडेको वर्षौंसम्म पनि उनलाई सम्मान गर्नेहरु बग्रेल्ती छन् । उनकै शब्दमा भन्ने हो भने अहिले लगानीको ब्याज पाकिरहेको छ ।मजस्ता खेलाडी यहाँ धेरै छन् तर मजति सम्मान कुनै खेलाडीले पाएका छैनन् उनी भन्छन् मानौं मैले लगानी गरेको थिएँ अहिले ब्याज खाइरहेको छु । त्योभन्दा ठूलो कुरा मेरो लागि अरु केही छैन । त्यतिबेला राजा वीरेन्द्रको हौसलाले पनि मलाई बैकुण्ठ बनाएको हो ।एथ्लेटिक्समा वर्षाैं लगानी र मेहनत गरेपछि मात्रै नतिजा देखिने भएकाले कीर्तिमान बनाउन दसौं वर्ष लाग्न सक्छ । दुईचार वर्ष दौडनासाथ अब भएन भनेर अर्को विकल्प खोज्न नहुने सुझाव उनी दिन्छन् ।बैकुण्ठले पाएका सम्मान पत्रको चाङ लगाउने हो भने एक ट्रक पुग्छ । यसलाई उनी मेहनतबाट प्राप्त फलको विम्ब मान्छन् । मैले राजादेखि हरेक नेपालीबाट सम्मान पाएको छु । घरमा सम्मान कदरपत्रहरु हेरेर कहिलेकाहीँ टोलाउने गर्छु भन्छन् साँच्चिकै मैले देशका लागि केही गरेछु ।मानन्धरले गोर्खा दक्षिणबाहुदेखि लिएर अनगिन्ती पुरस्कार पाएका छन् । यसमा राष्ट्रियदेखि अन्तर्राष्ट्रियसम्मका पर्छन् ।खेलकुद सुरुवातमध्यम परिवारमा जन्मिएका बैकुण्ठले सानै उमेरमा खेलप्रति रुचि राखे तर उनलाई खेलाडी बन्छु भन्ने लागेकै थिएन । तर मरुहिटीस्थित शान्ति निकुञ्ज माध्यमिक विद्यालयमा पढ्दापढ्दै उनी एथलेटिक्स खेलमा लागे ।मलाई यस्तो खेलाडी बनुँला भन्ने पटक्कै थिएन तर स्कुलमा हुने दौड प्रतियोगितामा भाग लिँदालिँदै एथलेटिक्समा लागें उनले सम्झिए २०२५ सालमा अन्तरस्कुल प्रतियोगितामा पहिलो भएपछि मलाई झनै प्रेरणा मिल्यो । पछि उनले त्यही विद्यालयबाट २०२६ सालमा एसएलसी उत्तीर्ण गरे ।सुरुमा उनलाई दौडमा लाग्न परिवारको साथ पटक्कै थिएन । परिवारले थाहा पाउने डरले भागीभागी लुकीलुकी दौड प्रतियोगिताहरुमा भाग लिए ।बुबाआमाले पटक्कै स्वीकार्नु भएन । खेलाडी बनाउनु भनेको छोराछोरी बिगार्नु हो भन्ने बुझाइ थियो । त्यतिबेला टोल छिमेकमा खेलाडीको बाआमा भनेर गर्व गर्न सक्ने अवस्था पनि थिएन । तर बाआमा खुसी भएनन् भनेर मैले दौडनचाहिँ छोडिनँ उनले भने ।०२५ मा टुडिखेलमा आयोजित अन्तरस्कुल एथलेटिक्स प्रतियोगितामा पहिलो भएपछि प्रशिक्षकहरु लक्ष्मण् विक्रम शाह र मधु शमशेर राणाबाट उनले प्रशिक्षण लिने मौका पाए । लगत्तै २०२७ सालमा उनी राष्ट्रिय च्याम्पियन बने । भोलिपल्टै गोरखापत्रमा फोटोसहितको समाचार छापिएको देखेपछि बाआमा खुसी भएर आफूलाई समर्थन गरेको उनलाई अहिलेजस्तै लाग्छ ।उनी सम्झन्छन् त्यसबेलासम्म दौडेर केही हुन्न भन्ने बाआमा पत्रिकामा नाम आउँदा त दंग त्यसपछि त म खुलेरै दौडमा लागें ।घरबाट खेल्न अनुमति पाएपछि बैकुण्ठले नेपालको एथलेटिक्समा एकछत्र राज गरे । १९८९ मा पाकिस्तानको चौथो सागमा तेस्रो भएपछि भने उनले राष्ट्रियअन्तर्राष्ट्रिय खेलमा सहभागिता जनाएनन् । त्यहाँ २ः२१ः०२ घण्टामा दौड पूरा गरें तर मैले तेस्रो स्थानमा चित्त बुझाउनु पयो । त्यसपछि मलाई खेल्न गाह्रो भयो । मैले राष्ट्रिय तथा अन्तर्राष्ट्रिय खेल खेल्न छाडें ।बाल्यकाल दौडेरै बित्योआठ दाजुभाइमा माइला बैकुण्ठको बाल्यकाल पनि दौडेरै बित्यो । घरमा चियापसल भएकाले चिनी चियापत्ती किन्न जाँदा पनि उनी धेरै दौडिए । त्यसमाथि आठ दाजुभाइमध्ये सबैभन्दा बलियो भएकाले घरको काममा पनि निकै दौडिए ।घरमा चिया पसल थियो । बाआमाले रोटी चिया बेच्थे । त्यतिबेला कालिमाटीमा उनीहरुको मात्र पसल थियो । चियाका लागि चिनी किनिरहनु पर्ने । उनी चिनी लिनै दौडेर हनुमानढोका पुग्थे । कतिपटक ताप्केमा पानी राखेर उनी दौडिँदै चियापत्ती लिन बसन्तपुर जान्थे । कहिलेकाहीँ त उनी पसल आइपुग्दा पानीसमेत तातिएको हुँदैनथ्यो ।पहिलो अन्तर्राष्ट्रिय अनुभवबैकुण्ठले पहिलोपटक ०३० मा विदेश जाने मौका पाए । त्यसपछि उनको विदेश पानीपँधेरो जस्तै भयो ।राष्ट्रिय च्याम्पियन बनेपछि ०३० सालमा पहिलो पटक विदेश जान पाँए । मेरो लागि ठूलो कुरा थियो उनले सम्झिए म अंग्रेजीमा राम्रो । खेलमा पनि राम्रो गर्दै थिएँ । त्यसैले फिलिपिन्स जाने मौका पाएँ । हामीले त्यहाँ गन्जी र पाँच रुपैयाँ पर्ने टेन्ट जुत्ता लगाएर दौडिएका थियौं ।फिलिपिन्सको पहिलो एसियन ट्र्याक एन्ड फिल्ड च्याम्पियनसिपमा सहभागी हुन नेपालबाट चार खेलाडी गएका थिए । त्यो नेपालको पहिलो अन्तर्राष्ट्रिय प्रतियोगिता थियो । जितबहादुर केसी त त्यहाँ खाली खुट्टा दौडिएका थिए । नेपाली खेलाडीमध्ये जितबहादुर सबैभन्दा राम्रा थिए । जितबहादुर त्यहाँ तेस्रो भए भने बैकुण्ठ पाँचौं । बैकुण्ठले जितका लागि अनेकौं रणनीति अपनाए जसलाई उनी यसरी सम्झन्छन् मैले सधैं जितबहादुरभन्दा म राम्रो भन्थें । मैले जितबहादुरलाई र दौड जित्न अनेकौं प्रयास गरें त्यहाँ विभिन्न देशका धावक थिए । मभन्दा जितबहादुरको पर्फमेन्स राम्रो थियो । त्यसैले मैले एउटा उपाय अपनाएँ । पिलिपिन्सको १२ बजेको गर्मीमा दौडनुपर्ने थियो । सुरुमा धेरै दौडेर सबैलाई गर्मीमा पछि बनाउने सोचें । दौड सुरु भयो । सुरुका १० मिनट बेपत्तासँग दौडिएँ । १०१२ किलोमिटर दौडिएपछि हेर्दा ट्र्याकमा कोही खेलाडी पनि देखिएनन् । पछि जितबहादुरले मलाई भेट्टाए । त्यसपछि कोको आउँदै छन् भनेर सोधें । जितबहादुरको कुरा सुनेर थाहा पाएँप्रायः सबै दौड छाडेर गइसकेछन् । म बेपत्ता दौडिएको देखेर सबैले हरेश खाएछन् । तर अन्तिममा जापानीहरुले दौड जिते जितबहादुर तेस्रो भए । जितबहादुरले जितेको त्यो नेपालको पहिलो अन्तर्राष्ट्रिय पदक थियो ।घरायसी समस्याले गाँजेपछि बैकुण्ठले ०३५३६ सालतिर खेल छाड्ने सोचेका पनि थिए । उनकी आमा बिरामी थिइन् । त्यत्ति नै बेला सेनाले उनलाई जागिर दिएर टेको दियो । त्यसपछि उनले केही समय खेल छाडे ०३८ सालमा राष्ट्रिय खेल खेल्न पाएनन् । उनी छनोट खेलमै सहभागी भएनन् । त्यसपछि उनले एक्लै ट्रायल दिएर भए पनि खेल्न दिन अनुरोध गरे तर पाएनन् । बरु पाकिस्तानमा खेल्न पाए र गए । अभ्यासबिनै दौडिँदा हार्ने र हारेपछि ओलम्पिकसागमा खेल्न नपाउने भनेर उनलाई अन्तर्राष्ट्रिय खेल खेल्न पाकिस्तान पठाइएको थियो । पाकिस्तानमा १० हजार मिटरको दौडमा उनी दोस्रो भए ।ओलम्पिक यात्रालगातार ४ पटक ओलम्पिकमा प्रतिनिधित्व गर्ने नेपालको एक्लो खेलाडी बैकुण्ठको ओलम्पिक यात्रा पनि निकै रोमान्चक छ । त्यसमध्ये पहिलो सन् १९७६ मोन्ट्रियलक्यानडा को ओलम्पिक उनलाई धेरै सम्झना आउँछ ।पहिलो पटक ओलम्पिक खेल्दा मैले गन्जी लगाएर दौडिएँ उनले स्मरण गर्दै भने त्यो ओलम्पिकमा मैले गन्जीमा साइनपेनले नेपाल लेखेको थिएँ । सँगै गएका अर्का खेलाडी अशोक श्रेष्ठले गन्जीमा नेपाल लेखिदिएका थिए । त्यसबेला २ः३०ः०७ घण्टामा दौड पूरा गर्दै म ५० औं स्थानमा आएँ ।तर बैकुण्ठलाई क्यानडाको ओलम्पिक खेलमा जानुअघिको अमेरिका यात्रा झनै स्मरणीय छ । क्यानडा जानुअघि ३ महिने अभ्यासका लागि अमेरिका जानुपर्ने थियो । उनलाई अमेरिका पठाइयो । काठमाडौंबाट दिल्ली गए तर दिल्लीमा उनको पार्सपोर्टबाहेक अरु केही थिएन । दिल्ली पुगेपछि बल्ल थाहा भयो अमेरिका जान भिसा चाहिने रहेछ । आफू ओलम्पिक खेल्न जान लागेको खेलाडी भएको बताएपछि उनी दिल्लीबाट अमेरिका जान पाए ।अमेरिका पुगेपछि बल्ल उनलाई गाह्रो भयो । पहिलो कुरा त भिसाबिनै गएकोमा विमानस्थलमै रोकिए । उनीसँग कुनै चिठी थिएन । राष्ट्रिय खेलकुद परिषद्लाई नेपाल घुम्न आएका अमेरिकीको मौखिक आश्वासनको भरमा उनलाई त्यहाँ पठाइएको रहेछ । अमेरिकाको विमानस्थलमा अलपत्र परेपछि त्यहाँका केही स्थानीय टेलिभिजनहरुले समाचार बनाए । त्यसपछि मात्रै उनलाई भेट्न नेपाली राजदूत आए । अनि बल्ल ती व्यक्ति सामुन्ने आए जसले नेपाल जाँदा सहयोग गर्छु भनेका थिए । उनी त्यतिबेला साथी उदय श्रेष्ठको रातो कोट मागेर ओलम्पिक खेल्न गएका थिए । उनीसँग एकजोर दौरा सुरुवाल गन्जी र लगाइराखेको पाइन्टमात्र थियो । उनले कर्नल युनिभर्सिटीमा तीन महिना अभ्यास गरे । र त्यहीँबाट ओलम्पिक खेल्न क्यानडा गए ।पैसालाई महत्व दिँदा खेल पछाडि पर्योआफ्नो रेकर्ड ब्रेक नहुनुमा खेलाडीहरुको मेहनतलाई नै दोष दिन्छन् बैकुण्ठ । खेलाडीले खेलभन्दा पैसालाई महत्व दिँदा उनको मन पोल्छ ।हामीले त्यो बेला दौडेर कसरी राम्रो गर्ने भन्ने भावना राख्थ्यौं आफ्नो खेललाई सुधार गर्न केके गर्नुपर्छ भन्ने सोच्थ्यौं । तर अहिलेका खेलाडीहरु दौडेर पैसा कमाउने सोच राख्छन् अनि कसरी प्रगति हुन्छ  उनले भने यहाँ पैसाबिना कोही पनि दौडिँदैन । पैसाबिना कुनै प्रतियोगिता भए कुनै खेलाडी दौडिँदैनन् ठोकुवा गरेर भन्छु । नयाँ खेलाडीले कसरी बैकुण्ठ मानन्धरको रेकर्ड ब्रेक गर्ने भनेर कहिल्यै सोचेनन् ।आफ्नो पालामा खुराक गतिलो नभए पनि दौडिनुपथ्र्यो जुत्ता नभए पनि उफ्रिएर कुदुनुपथ्र्यो । अहिले सुविधा अनेकन् छन् वैज्ञानिक सिकाइ छ र पनि कसैले उनको रेकर्ड तोड्न सकेनन् । उनलाई यही कुरामा दुःख लाग्छ ।नयाँ खेलाडीले आफ्नो सुझाव नमान्दा उनलाई चित्त दुख्छ । भन्छन् नयाँ खेलाडीले हाम्रो सुझाव लिन नचाहँदा बेकारमै सुझाएछु जस्तो लाग्छ । आजकलका युवा खेलाडीहरु हामीलाई आउटडेटेड सम्झन्छन् ।बाँकी जीवनकीर्तिमानी धावक बैकुण्ठको दैनिकी पहिलेभन्दा कम छैन । बिहानै उठेर रंगशाला आउने र आफ्नै उमेरका धावकसँग दौडिने गर्छन् । भन्छन् अचेल भेट्रानलाई सुझाव दिन्छु । नयाँ खेलाडीलाई हौसला दिन्छु । लागेको बानी छाड्न सकिएन सधैं दौडिन्छु । आफ्नो स्वास्थ्यका लागि भए पनि यो जरुरी छ । सच्याइएकोतस्बिर\n",
      "Actual label =  Entertainment\n",
      "Preticted label =  Opinion\n",
      "1/1 [==============================] - 0s 20ms/step\n",
      "रियल मड्रिडका वेल्स सुपरस्टार ग्यारेथ बेलले उनका अहिलेसम्मका महान टिममेटको नाम लिएका छन् । तर सबैको सोचाइभन्दा भिन्न ।सबैले सोचेका थिए कि उनले रोमन पाभ्लीचेन्को वा क्रिष्टियानो रोनाल्डो । तर वेलको महान टिममेटको सूचीमा यी दुवै अटाएनन् ।विश्वका एक महान खेलाडीमध्ये एक रोनाल्डोको नामसमेत नलिनु आश्चर्यको कुरा त हो नै किनकि यिनीहरुबीचको सन्तुलनताले रियलले धेरै उपाधि जितेको छ ।टोटनहृयामका पूर्व स्ट्राइकर वेललाई जुत्ताको ब्राण्ड फुट लकरले प्रश्न सोधेको थियो कि तपाईंसँग खेलेको वा तपाईंको बिरुद्धमा मैदानमा सँगै खेलेको मध्ये कसलाई महान मान्नुहुन्छ प्रश्न लगत्तै वेलले नसोची उत्तर दिए मेरा लागि सबैभन्दा महान खेलाडी रायन गिग्स हुन् । उनी मैले फुटबल सिक्ने बेलाका आदर्श थिए र विश्व फुटबलका लेजेन्ट हुन् । अर्को कुरा उनी मेरा वेल्स टिममेट पनि हुन् ।उनीहरुबीचको उमेर भिन्दता निक्कै छ । उनीहरु वेल्सको जर्सीमा मात्र एकपटक सँगै मैदानमा उत्रिएका छन् । सन् २००७ मा सानमारिनोबिरुद्धको खेलमा हात पारेको ३० को जितमा दुवैले गोल गरेका थिए ।त्यसो त वेलले गिग्स आफ्नो आदर्श खेलाडी भएको कुरा पहिलो पटक भनेका होइनन् । युरो २०१६ अघि वेल्सका स्कुले बिद्यार्थीहरुले सोधेको कुन पूर्व खेलाडी मन पराउनुहुन्छ भन्ने प्रश्नमा पनि उनले यस्तै जवाफ दिएका थिए ।उनले भनेका थिए म बुढा भइसकेको छैन र त्यसैले धेरै जान्दिन तर मेरा लागि रायन गिग्स उनी मेरा आदर्श हुन् ।\n",
      "Actual label =  Sports\n",
      "Preticted label =  Sports\n",
      "1/1 [==============================] - 0s 16ms/step\n",
      "१२ असार काठमाडौं । हलिउडको पर्दामा कुदेको देखिने चिल्ला महंगा कारहरु नेपाली सडकमा पनि हुँइकिन थालेका छन् । राम्रो आम्दानी हुने नेपालीले यी कारहरु फिल्ममा हेर्नमात्र होइन चढ्न नै पाउँछन् ।युरोप तथा अमेरिकामा बनेका प्रिमियम कारहरु धमाधम नेपाल भित्रिन थालेका छन् । ल्यान्डरोभर मर्सिडिज अउडी बिएमडब्लु हम्मर जगुअर लगायतका चर्चित ब्राण्डहरु नेपाली सडकमा देखिन्छन् । यी कारको मूल्य झण्डै ४ करोड रूपैयाँसम्म पर्छ ।नेपालमा किशोर गियरले महंगा कारहरु भित्राउँदै आएको छ । किशोर गियरले ल्यान्डरोभर मर्सिडिज जगुअर पोजो गाडीहरु बिक्री गर्छ । अउडी बिएमडब्लु र हम्बर गाडी पनि व्यक्तिगत रुपमा नेपाल ल्याएर चढेको देखिन्छ । पछिल्लो समय नेपालमा महंगा ब्रान्डहरु भित्रिने क्रम बढेको छ ।खासगरी व्यवसायीक घराना र कुटनीतिक नियोगका व्यक्तिहरु महंगा गाडीहरु चढ्छन् । कुटनीतिक नियोगका कर्मचारीलाई ड्युटी फ्रि सुविधा छ । कतिपय विदेशी दूतावास तथा विदेशी संस्थाहरु आफ्नै मुलुकको प्रतिष्ठित ब्रान्ड प्रयोग गर्न रुचाउँछन् ।ल्यान्डरोभररेञ्जरोभरविश्वको प्रशिद्ध प्रिमियम लक्जरी ब्राण्ड हो ल्याण्डरोभर । नेपालमा ल्यान्डरोभर र रेञ्जरोभर कारहरू किशोर गियरले बिक्री गर्दै आएको छ । नेपालमा ल्यान्डरोभर करिव ५० थान बिक्री भइसकेको किशोर गियरले जानकारी गरायो ।विशेषगरी व्यवसायिक घरानाको रोजाईमा ल्यान्डरोभर पर्ने गरेको छ । किशोर गियरका अनुसार नेपालमा ५ मोडलका ल्याण्डरोभर गाडी बिक्री भएका छन् । अहिले नेपालमा ३ करोड रुपैयाँसम्मको ल्यान्डरोभर कुद्छ ।नेपालमा १ करोड ५० लाखदेखि २ करोडसम्मका ल्यान्डरोभर गाडी बढी बिक्री हुने गर्छन् । सिप्रदी समूहले झण्डै तीन करोड पर्ने गाडी किनेको छ । चौधरी समूह र प्रभु समूहसँग पनि ल्यान्डरोभर छ । प्रभु समुहले हालैमात्र पौने २ करोड हालेर ल्यान्डरोभर किनेको हो । गैर अवासिय नेपाली संघ एनआरएनका अध्यक्ष शेष घलेसँग पनि ल्यान्डरोभर छ ।मर्सिडिजजर्मनको प्रशिद्ध ब्रान्ड मर्सिडिज पनि नेपाली सडकमा हुँइकिन्छ । केही प्रतिष्ठित व्यवसायिक घराना मर्सिडिज गाडी चढ्छन् । सिप्रदी समुहले मर्सिडिज एस क्लास किनेको छ । २००९ मोडलको उक्त गाडीको मूल्य २ करोड १० लाख रुपैयाँ परेको थियो ।यसैगरी आइएमई समूह शेष घले गोल्छा अर्गनाइजेसन लगायतसँग पनि मर्सिडिज गाडी छ । कुटनीतिक नियोगका उच्च पदस्थ कर्मचारी र राष्ट्रपति विद्यादेवी भण्डारी पनि मर्सिडिजमा कुद्छन् ।केही समय अगाडि कतारले ९ थान सुविधा सम्पन्न मर्सिडिज बेञ्ज कार नेपाल सरकारलार्इ सहयोग स्वरूप प्रदान गरेको छ । नेपाली सडकमा मर्सिडिजको संख्या बाक्लै छ । त्यही भएर मर्सिडिज कार आधिकारिक रूपमै नेपालमा बिक्री सुरू गर्नका लागि एक व्यवसायिक घराना कस्सिएको छ ।नेपालमा छिट्टै अहिलेसम्मकै महंगो मर्सिडिज कार भित्रिँदै छ । झण्डै साढे ३ करोड पर्ने मर्सिडिज एस ३२० मोडल प्रतिष्ठित व्यवसायिक घरानाले ल्याउन लागेको हो ।जगुअरहालैमात्र नेपाली बजारमा बेलायती प्रिमियम ब्रान्ड जगुर भित्रियो । जसले नेपाली कार पारखीको ध्यान खिच्यो । कारमा ठूलो लगानी गर्न खोज्ने प्रतिष्ठित व्यवसायीहरू जगुअर कार किन्न भनेर गए ।नेपालमा जगुअर कार किशोर गियरले भित्राएको हो । बेलायती कम्पनी जगुअर ल्यान्डरोभर कम्पनीले जगुअर कार उत्पादन गर्दै आएको छ । नेपालमा जगुअर कार दुर्इ मोडलमा ६ थान भित्रिएको थियो । नाकाबन्दीका कारण लामो समय भारतमा रोकिएको यो कार नेपाल भित्रिन नपाउँदै बिक्री भयो ।किशोर गियरले जगुअर २०१४ मोडल भित्राएको हो । जगुअर एक्स एफ र जगुअर एक्सजे एल गरी दुई मोडल नेपाली सडकमा कुद्छन् । पुरानो मोडल भएको हुँदा एक्स एफको मूल्य १ करोड ३० लाखदेखि १ करोड ४० लाखसम्म र एक्सजे एलको मूल्य १ करोड ५० लाखदेखि १ करोड ६० लाखसम्म तोकिएको छ ।यो कार गोल्छा अर्गनाइजेसन सारडा ग्रुप प्रेसिडेन्स ट्राभल्स लगायतले खरिद गरेका छन् ।बिएमडब्लुजर्मनी प्रिमिय ब्रान्ड बिएमडब्लु पनि नेपाली सडकमा देखिन्छ । यो विश्वकै चर्चित प्रिमियम लक्जरी ब्रान्डको रूपमा चिनिन्छ । विश्वका धनाढ्यहरू बिएमडब्लु चढेर हिँड्छन् । नेपालमा पनि यो कार भित्रिएको छ । यो गाडी व्यक्ति स्वयमले नेपाल ल्याएर चढ्दै आइरहेका छन् ।अउडीअउडी पनि प्रख्यात प्रिमियम कार ब्रान्ड हो । यो गाडी पनि नेपाली सडकमा कुद्न थालेको छ ।हम्मरनेपाली सडकमा हम्मर कार पनि हुँइकिन्छ । प्रमियम लक्जरी कार हम्मर आकर्षक डिजाइनमा रहेको छ । एउटा प्रतिष्ठित मिडियाका मालिकले हम्मर एच थ्री कार चढ्दै आएका छन् ।\n",
      "Actual label =  Automobiles\n",
      "Preticted label =  Automobiles\n",
      "1/1 [==============================] - 0s 24ms/step\n",
      "सरस्वती ढकालकाठमाडौं २४ असारउत्पादनमूलक उद्योगमा आन्तरिक र बाह्य दुवैखाले लगानी घटिरहेका बेला सरकार भने नयाँ औद्योगिक क्षेत्र स्थापनाको तयारीमा जुटेको छ । सञ्चालनमा रहेका औद्योगिक क्षेत्रमा समेत न्यूनतम पूर्वाधार पुयाउन नसकेको सरकारले नयाँ औद्योगिक क्षेत्रको नारालाई संघीयतासँग जोडेर प्रचार गरिरहे पनि यसको मुख्य सरोकारवाला पक्ष मानिने निजी क्षेत्र भने विश्वस्त छैन । सरकारले सबै प्रदेशमा न्यूनतम हजार बिघाका ठूला औद्योगिक क्षेत्र सञ्चालन गर्ने तयारी गरेको छ ।व्यापार घाटा न्यूनीकरण युवा पलायन र रेमिट्यान्समुखी अर्थतन्त्रबाट देशलाई निर्यात व्यापारतर्फ लैजान भन्दै सरकारले ठूला औद्यागिक क्षेत्रको अवधारणा ल्याएको हो । तर हाल औद्योगिक क्षेत्रका लागि कित्ताकाट गरिएका अधिकांश क्षेत्रहरू उत्पादनका दृष्टिले प्रचुर सम्भावनायुक्त मानिन्छन् । औद्योगिक क्षेत्रसँगै त्यस आसपास हुने बस्ती विस्तारले यस्तो भूमि मासिने जोखिम पनि छ । त्यसैले भएका औद्योगिक क्षेत्रलाई नै अधिकतम उपयोग गर्नुपर्ने विज्ञहरूको मत छ । सरकारले झापाको दमक सर्लाही मकवानपुरको मयुरधाप कास्कीको लेखनाथ पटनरी रुपन्देहीको मोतीपुर नेपालगन्जको नौबस्ता र कञ्चनपुरको दैजीमा प्रादेशिक औद्योगिक क्षेत्रका लागि प्रस्ताव गरेको छ । यी स्थानमा कम्तिमा हजार बिघा क्षेत्रफलका औद्योगिक क्षेत्र बनाउने सरकारको योजना छ ।पूर्वसचिव विमलप्रसाद वाग्ले सरकारले औद्योगिक क्षेत्रको स्थापना गरेर मात्रै देशमा लगानी आउने नभई लगानीमैत्री वातावरण बनाउनुपर्ने बताउँछन् । भएका आद्योगिक क्षेत्रमा उद्योगहरू नै बस्न नसकेको अवस्थामा नयाँ औद्योगिक क्षेत्र स्थापना गरेर मात्र लगानी आउन नसक्ने उनको भनाइ छ । भौगोलिक रूपमा नै सानो मुलुक र त्यसमा पनि उत्पादनशील क्षेत्र अत्यन्त न्यून रहेकाले औद्योगिक क्षेत्र विशेष औद्योगिक क्षेत्र तथा वस्तुगत उत्पादन प्रशोधन केन्द्रका नाउँमा जमिन खण्डीकरण गर्न नहुने उनको भनाइ छ ।सरकारी तथ्यांकअनुसार पछिल्लो एक दशकमा मुख्य खाद्यान्न बालीको उत्पादन क्षेत्रफल ९ प्रतिशतले घटिसकेको छ । खेतीयोग्य जमिनमा हाउजिङ तथा अपार्टमेन्ट निर्माण हुनु तथा ग्रामीण भेगमा पुयाइएको सडकका कारण मुख्य खाद्यान्न बालीको उत्पादन क्षेत्रफल घटेको केन्द्रीय तथ्यांक विभागले जनाएको छ । विभागका उपमहानिर्देशक सुमनराज अर्यालका अनुसार खेतीयोग्य जमिन मासेर व्यक्तिगत घर बन्दै गएकाले यसको प्रभाव खाद्यान्न बालीको उत्पादन क्षेत्रफलमा परेको छ । यसरी औद्योगिक क्षेत्रसँगै बस्ती विस्तारसमेत हुने भएकाले उत्पादनमूलक क्षेत्र मासिने चिन्ता छ ।राज्यले औद्योगिक क्षेत्र विस्तारभन्दा उत्पादन लागत घटाउनुपर्ने सरोकारवालाहरू बताउँछन् । नेपालमा उद्योग सञ्चालन लागत महँगो छ । यसलाई घटाउनु सरकारको दायित्व हो औद्योगिक क्षेत्र सहयोगी हुनु तर औद्योगिक क्षेत्र स्थापना हुँदैमा लगानी आउने भने होइन वाग्ले भन्छन् । उनका अनुसार भैरहवाको सेजमा पनि शुल्क नघटाएसम्म व्यवसायीले चासो देखाएनन् शुल्क घटाउँदा पनि पर्याप्त आवदेन परेको छैन । भैरहवा सेजले नै लगानीमैत्री वातावरण नभएसम्म उद्योगी व्यवसायी लगानी गर्न इच्छुक नभएको देखाएकाले नयाँ औद्योगिक क्षेत्र अर्थहीन भएको उनको टिप्पणी छ ।सरकारले भने औद्योगिक क्षेत्रको विकास गरी नेपालमै रोजगारी वृद्धि गरी युवा पलायन रोक्न यस्तो अवधारणा ल्याएको दाबी गरेको छ । उद्योग सचिव सूर्यप्रसाद सिलवालले विदेशी लगानीकर्ताले जग्गाको अभाव तथा महँगो मूल्यलाई नै कारण देखाएकाले औद्योगिक क्षेत्रको स्थापनाले उनीहरूलाई आकर्षित गर्न सकिने दाबी गरे ।नेपालमा २०१९ सालमा अमेरिकी सरकारको सहयोगमा बालाजु औद्योगिक क्षेत्रको स्थापना हो । त्यसयता ११ वटा औद्योगिक क्षेत्र स्थापना भइसकेका छन् भने १० वटा सञ्चालनमा छन् । हाल भएका ११ वटा औद्योगिक क्षेत्रले ५ हजार ६ सय रोपनी जग्गा ओगटेका छन् भने १ हजार ७०६ उद्योग छन् । हाल सञ्चालनमा रहेका औद्योगिक क्षेत्र मोटर सोरुम वर्कसप होलसेल पसलजस्ता व्यवसायले ओगटेका छन् ।  औद्योगिक क्षेत्र विस्तारले कृषि उत्पादनमा असर गर्ने\n",
      "Actual label =  Economy\n",
      "Preticted label =  Interview\n",
      "1/1 [==============================] - 0s 20ms/step\n",
      "काठमाडौँ ४ साउन  प्रतिकूल परिस्थितिमा पनि अघिल्लो आर्थिक वर्षको राजस्वको लक्ष्य प्राप्त गर्न राज्य सफल भएको छ । आव २०७२७३ का लागि निर्धारित चार खर्ब ७५ अर्बको राजस्व सङ्कलनको लक्ष्य हासिल गर्दै थप सात अर्ब सङ्कलन भएको छ ।भूकम्प र सीमा क्षेत्रमा भएको अवरोधका कारण छ महिनासम्म अर्थतन्त्र शिथिल रहेकाबेला लक्ष्यभन्दा बढी राजस्व सङ्कलन हुनुलाई उपलब्धिभन्दा पनि प्रतिकूलतालाई अनुकूलतामा रुपान्तरण गर्न सक्नु प्रशंसनीय रहेको अर्थमन्त्रीको विश्लेषण छ ।अघिल्लो आवको राजस्वको लक्ष्यबारे जानकारी दिन आज अपराह्न अर्थमन्त्रालयमा आयोजित पत्रकार सम्मेलनमा मन्त्री विष्णुप्रसाद पौडेलले भने आत्मविश्वासका साथ निष्ठापूर्वक काम गर्दा गन्तव्यमा पुग्न सकिने दृष्टान्त सङ्कलित राजस्व रकमबाट पुष्टि भएको छ ।राजस्वका लक्ष्य हासिल गर्नुलाई भन्दा प्रतिकूल परिस्थितिमा पनि चुनौती पन्छाउँदै गन्तव्यमा पुग्न सफल हुनुलाई उपलब्धिका रुपमा उहाँले चित्रण गरेका छन् । सरकारले आव २०७१०७२ को तुलनामा आव ०७२७३ मा १९ प्रतिशत बढी राजस्व सङ्कलन गरेको जानकारी दिँदै अर्थमन्त्रीले राजस्व असुलीमध्ये कर राजस्वतर्फ चार खर्ब २२ अर्ब १६ करोड तथा गैर राजस्वतर्फ रु ६० अर्ब दुई करोड सङ्कलन भएको बताए ।मुलुकमा देखिएको असहज अवस्था एवम् आपूर्ति प्रणालीमा उत्पन्न अवरोध समेतका बाबजुद चार खर्ब ८२ अर्ब राजस्व असुली भएको हो । गत वर्षको तुलनामा यस वर्ष कर राजस्वको संरचनामा सकारात्मक परिवर्तन आएको जानकारी दिँदै मन्त्री पौडेलले आयकरतर्फको संरचनात्मक अनुपातमा करिब तीन प्रतिशत बढेको छ भने भन्सार तथा मूल्य अभिवृद्धि कर करिब एक प्रतिशतले घटेको छ । कर राजस्वको संरचनामा आयकरतर्फको अनुपात बढ्नुले कर सुधारको प्रक्रिया ठीक दिशातर्फ अगाडि बढिरहेको बताए ।आयकरतर्फ गत आवको तुलनामा ३१ प्रतिशतले वृद्धि भएको जानकारी दिँदै उनले संस्थागत आयकर तथा पुँजीगत लाभकरको उल्लेखनीय वृद्धि भएको मूल्य अभिवृद्धि करतर्फ अघिल्लो आवको तुलनामा गत आवमा १५ प्रतिशतको वृद्धिदर हासिल भएको जानकारी दिए । अन्तःशुल्कतर्फ अघिल्लो आवको तुलनामा गत आवमा २३ प्रतिशत वृद्धि भएको उनको कथन थियो ।भूकम्पबाट क्षतिग्रस्त भएका उद्योगधन्दालाई पुनःसञ्चालन गर्ने उद्देश्यले सरकारले रु एक खर्बमा स्थापना गरेको पुनरुद्धार कोषमा अर्थ मन्त्रालयले पाँच अर्ब र वाणिज्य बैंकले ३० अर्ब दाखिला गरेको जानकारी दिँदै मन्त्री पौडेलले उक्त कोषलाई स्थायी कोषका रुपमा सञ्चालन गर्ने योजनामा सरकार रहेको बताए ।फरक एक प्रशङ्गमा मन्त्री पौडेलले संविधानले प्रत्याभूत गरेको परिधिभित्र रहेर सरकार अगाडि बढिरहेकाले संसद्ले गर्ने निर्णयलाई आत्मसात् गरेर अगाडि बढ्ने उल्लेख गरेका छन् । सदनमा सरकारविरुद्ध अविश्वासको प्रस्ताव दर्ता भएको सन्दर्भमा त्यसले गर्ने निर्णय स्वीकार गर्ने र लोकतान्त्रिक मूल्य र मान्यताअनुसार अगाडि बढ्ने बताए ।चालु आवका लागि सरकारले अगाडि सारेको नीति तथा कार्यक्रम र बजेट कार्यान्वयनका लागि अपनाइने विधिका विषयमा प्रस्तुत गर्न लागिएको कार्ययोजना समेत तयारी अवस्थामा रहेको भन्दै उनले उपयुक्त समयमा पेस गरिने जानकारी दिए ।पुुँजीगत खर्च बढाउन सरकार क्रियाशील रहेको भन्दै उनले चालु आवको बजेट त्यसतर्फ केन्द्रित रहेको स्पष्ट पारेका छन् । राजस्व सचिव राजन खनालले आर्थिक वर्षको अन्त्यमा बजेट खर्च गरेको नभई काम सकिएका आयोजनालाई भुक्तानी दिइएकाले त्यसलाई गलत रुपमा नबुझ्न आग्रह गरे । रासस  प्रतिकूल परिस्थितिमा राजस्वका लक्ष्य प्राप्त गर्नु राज्यको उपलब्धिः अर्थमन्त्री\n",
      "Actual label =  Economy\n",
      "Preticted label =  Economy\n",
      "1/1 [==============================] - 0s 19ms/step\n",
      "नेपालले दोस्रो सब्सिच्युटको रुपमा अनिल गुरुङलाई मैदानमा प्रवेश गराएको छ। राष्ट्रिय टोलीको कप्तान घोषित भएका अनिल प्लेइङ सेटमा नपरेपछि उनको स्थानमा विराज महर्जनलाई कप्तानी सुम्पिएको थियो। अनिल खेलको ७७ मिनेटमा अन्जन बिष्टको स्थानमा प्रवेश गरेका थिए।हाल मैदानमा नेपालले तीन स्ट्राइकर अनिल भरत खवास र विमलघर्ती मगरलाई उतारेको छ। ८० मिनेटको खेल सकिँदासम्म कुनै गोल हुन सकेको छैन। नेपालले ११ सट प्रहार गर्दा टिमोर लेस्टेले ३ सट मात्र प्रहार गरेको छ।\n",
      "Actual label =  Sports\n",
      "Preticted label =  Sports\n",
      "1/1 [==============================] - 0s 64ms/step\n",
      "समालोचक गीता त्रिपाठीले उत्तरवर्ती नेपाली नारीकथाका प्रवृत्तिहरू कार्यपत्र प्रस्तुत गरिन् । पितृसत्तात्मक समाजको चस्माले नारीकथाको अध्ययन र मूल्यांकनमा सदैव एउटा निश्चित अवधारणा बनाएका कारण नारी कथाका विषयमा हुने टिप्पणी र समालोचनाहरू विगतदेखि नै पूर्ण हुन नसकेको उनले सुनाइन् । नारीका कथा सदैव वैयक्तिक पीडा र आँसुका अविष्कारहरूको नयाँ संस्करणमा मात्र हुन् भन्नेहरूको बाहुल्यले नारी कथाको गुणात्मक विस्तारलाई चुनौती दिँदै आएको छ उनले भनिन् ।\n",
      "Actual label =  Literature\n",
      "Preticted label =  Literature\n"
     ]
    }
   ],
   "source": [
    "   \n",
    "for i in range(4,20):\n",
    "  prediction = model.predict(np.array([x_test[i]]))\n",
    "  predicted_classes = text_classes[np.argmax(prediction[0])]\n",
    "\n",
    "  print(test_news.iloc[i])\n",
    "  print('Actual label = ',test_category.iloc[i])\n",
    "  print(\"Preticted label = \", predicted_classes)\n",
    "\n"
   ]
  },
  {
   "cell_type": "code",
   "execution_count": 107,
   "metadata": {},
   "outputs": [
    {
     "data": {
      "text/html": [
       "<div>\n",
       "<style scoped>\n",
       "    .dataframe tbody tr th:only-of-type {\n",
       "        vertical-align: middle;\n",
       "    }\n",
       "\n",
       "    .dataframe tbody tr th {\n",
       "        vertical-align: top;\n",
       "    }\n",
       "\n",
       "    .dataframe thead th {\n",
       "        text-align: right;\n",
       "    }\n",
       "</style>\n",
       "<table border=\"1\" class=\"dataframe\">\n",
       "  <thead>\n",
       "    <tr style=\"text-align: right;\">\n",
       "      <th></th>\n",
       "      <th>loss</th>\n",
       "      <th>accuracy</th>\n",
       "      <th>val_loss</th>\n",
       "      <th>val_accuracy</th>\n",
       "    </tr>\n",
       "  </thead>\n",
       "  <tbody>\n",
       "    <tr>\n",
       "      <th>0</th>\n",
       "      <td>2.074050</td>\n",
       "      <td>0.421882</td>\n",
       "      <td>1.395230</td>\n",
       "      <td>0.605825</td>\n",
       "    </tr>\n",
       "    <tr>\n",
       "      <th>1</th>\n",
       "      <td>1.091144</td>\n",
       "      <td>0.701554</td>\n",
       "      <td>1.180167</td>\n",
       "      <td>0.700971</td>\n",
       "    </tr>\n",
       "    <tr>\n",
       "      <th>2</th>\n",
       "      <td>0.661223</td>\n",
       "      <td>0.826284</td>\n",
       "      <td>1.090233</td>\n",
       "      <td>0.710680</td>\n",
       "    </tr>\n",
       "    <tr>\n",
       "      <th>3</th>\n",
       "      <td>0.400133</td>\n",
       "      <td>0.895339</td>\n",
       "      <td>1.297835</td>\n",
       "      <td>0.706796</td>\n",
       "    </tr>\n",
       "    <tr>\n",
       "      <th>4</th>\n",
       "      <td>0.299031</td>\n",
       "      <td>0.919292</td>\n",
       "      <td>1.603078</td>\n",
       "      <td>0.726214</td>\n",
       "    </tr>\n",
       "    <tr>\n",
       "      <th>5</th>\n",
       "      <td>0.227928</td>\n",
       "      <td>0.945404</td>\n",
       "      <td>1.895379</td>\n",
       "      <td>0.718447</td>\n",
       "    </tr>\n",
       "    <tr>\n",
       "      <th>6</th>\n",
       "      <td>0.229034</td>\n",
       "      <td>0.939361</td>\n",
       "      <td>2.087592</td>\n",
       "      <td>0.704854</td>\n",
       "    </tr>\n",
       "    <tr>\n",
       "      <th>7</th>\n",
       "      <td>0.205582</td>\n",
       "      <td>0.948425</td>\n",
       "      <td>1.938810</td>\n",
       "      <td>0.693204</td>\n",
       "    </tr>\n",
       "    <tr>\n",
       "      <th>8</th>\n",
       "      <td>0.177483</td>\n",
       "      <td>0.953604</td>\n",
       "      <td>2.550145</td>\n",
       "      <td>0.683495</td>\n",
       "    </tr>\n",
       "    <tr>\n",
       "      <th>9</th>\n",
       "      <td>0.220949</td>\n",
       "      <td>0.946698</td>\n",
       "      <td>2.809619</td>\n",
       "      <td>0.691262</td>\n",
       "    </tr>\n",
       "    <tr>\n",
       "      <th>10</th>\n",
       "      <td>0.155493</td>\n",
       "      <td>0.952741</td>\n",
       "      <td>2.686983</td>\n",
       "      <td>0.691262</td>\n",
       "    </tr>\n",
       "    <tr>\n",
       "      <th>11</th>\n",
       "      <td>0.266840</td>\n",
       "      <td>0.947993</td>\n",
       "      <td>2.999980</td>\n",
       "      <td>0.693204</td>\n",
       "    </tr>\n",
       "    <tr>\n",
       "      <th>12</th>\n",
       "      <td>0.235009</td>\n",
       "      <td>0.949719</td>\n",
       "      <td>2.188612</td>\n",
       "      <td>0.673786</td>\n",
       "    </tr>\n",
       "    <tr>\n",
       "      <th>13</th>\n",
       "      <td>0.185672</td>\n",
       "      <td>0.947130</td>\n",
       "      <td>3.534243</td>\n",
       "      <td>0.673786</td>\n",
       "    </tr>\n",
       "    <tr>\n",
       "      <th>14</th>\n",
       "      <td>0.243415</td>\n",
       "      <td>0.949719</td>\n",
       "      <td>3.079984</td>\n",
       "      <td>0.685437</td>\n",
       "    </tr>\n",
       "    <tr>\n",
       "      <th>15</th>\n",
       "      <td>0.216566</td>\n",
       "      <td>0.949935</td>\n",
       "      <td>5.094642</td>\n",
       "      <td>0.681553</td>\n",
       "    </tr>\n",
       "    <tr>\n",
       "      <th>16</th>\n",
       "      <td>0.298417</td>\n",
       "      <td>0.944972</td>\n",
       "      <td>3.896721</td>\n",
       "      <td>0.706796</td>\n",
       "    </tr>\n",
       "    <tr>\n",
       "      <th>17</th>\n",
       "      <td>0.267250</td>\n",
       "      <td>0.947130</td>\n",
       "      <td>4.402811</td>\n",
       "      <td>0.708738</td>\n",
       "    </tr>\n",
       "    <tr>\n",
       "      <th>18</th>\n",
       "      <td>0.245670</td>\n",
       "      <td>0.948856</td>\n",
       "      <td>3.654974</td>\n",
       "      <td>0.679612</td>\n",
       "    </tr>\n",
       "    <tr>\n",
       "      <th>19</th>\n",
       "      <td>0.224770</td>\n",
       "      <td>0.952525</td>\n",
       "      <td>4.369811</td>\n",
       "      <td>0.683495</td>\n",
       "    </tr>\n",
       "    <tr>\n",
       "      <th>20</th>\n",
       "      <td>0.251421</td>\n",
       "      <td>0.951230</td>\n",
       "      <td>4.649298</td>\n",
       "      <td>0.693204</td>\n",
       "    </tr>\n",
       "    <tr>\n",
       "      <th>21</th>\n",
       "      <td>0.288282</td>\n",
       "      <td>0.948856</td>\n",
       "      <td>4.633931</td>\n",
       "      <td>0.681553</td>\n",
       "    </tr>\n",
       "    <tr>\n",
       "      <th>22</th>\n",
       "      <td>0.261765</td>\n",
       "      <td>0.948856</td>\n",
       "      <td>3.831225</td>\n",
       "      <td>0.702913</td>\n",
       "    </tr>\n",
       "    <tr>\n",
       "      <th>23</th>\n",
       "      <td>0.194417</td>\n",
       "      <td>0.952741</td>\n",
       "      <td>4.352146</td>\n",
       "      <td>0.691262</td>\n",
       "    </tr>\n",
       "    <tr>\n",
       "      <th>24</th>\n",
       "      <td>0.195108</td>\n",
       "      <td>0.955114</td>\n",
       "      <td>6.205610</td>\n",
       "      <td>0.700971</td>\n",
       "    </tr>\n",
       "    <tr>\n",
       "      <th>25</th>\n",
       "      <td>0.362814</td>\n",
       "      <td>0.951446</td>\n",
       "      <td>4.969779</td>\n",
       "      <td>0.687379</td>\n",
       "    </tr>\n",
       "    <tr>\n",
       "      <th>26</th>\n",
       "      <td>0.341256</td>\n",
       "      <td>0.946483</td>\n",
       "      <td>5.258008</td>\n",
       "      <td>0.704854</td>\n",
       "    </tr>\n",
       "    <tr>\n",
       "      <th>27</th>\n",
       "      <td>0.209432</td>\n",
       "      <td>0.952309</td>\n",
       "      <td>5.925142</td>\n",
       "      <td>0.728155</td>\n",
       "    </tr>\n",
       "    <tr>\n",
       "      <th>28</th>\n",
       "      <td>0.279044</td>\n",
       "      <td>0.949072</td>\n",
       "      <td>6.610448</td>\n",
       "      <td>0.706796</td>\n",
       "    </tr>\n",
       "    <tr>\n",
       "      <th>29</th>\n",
       "      <td>0.247784</td>\n",
       "      <td>0.955330</td>\n",
       "      <td>6.319149</td>\n",
       "      <td>0.664078</td>\n",
       "    </tr>\n",
       "    <tr>\n",
       "      <th>30</th>\n",
       "      <td>0.217991</td>\n",
       "      <td>0.950367</td>\n",
       "      <td>8.224022</td>\n",
       "      <td>0.671845</td>\n",
       "    </tr>\n",
       "    <tr>\n",
       "      <th>31</th>\n",
       "      <td>0.364058</td>\n",
       "      <td>0.942167</td>\n",
       "      <td>6.498944</td>\n",
       "      <td>0.679612</td>\n",
       "    </tr>\n",
       "    <tr>\n",
       "      <th>32</th>\n",
       "      <td>0.289595</td>\n",
       "      <td>0.945188</td>\n",
       "      <td>5.679432</td>\n",
       "      <td>0.652427</td>\n",
       "    </tr>\n",
       "    <tr>\n",
       "      <th>33</th>\n",
       "      <td>0.270954</td>\n",
       "      <td>0.944972</td>\n",
       "      <td>5.347112</td>\n",
       "      <td>0.660194</td>\n",
       "    </tr>\n",
       "    <tr>\n",
       "      <th>34</th>\n",
       "      <td>0.244939</td>\n",
       "      <td>0.944756</td>\n",
       "      <td>11.563629</td>\n",
       "      <td>0.695146</td>\n",
       "    </tr>\n",
       "    <tr>\n",
       "      <th>35</th>\n",
       "      <td>0.339269</td>\n",
       "      <td>0.953172</td>\n",
       "      <td>9.734533</td>\n",
       "      <td>0.704854</td>\n",
       "    </tr>\n",
       "    <tr>\n",
       "      <th>36</th>\n",
       "      <td>0.254041</td>\n",
       "      <td>0.952525</td>\n",
       "      <td>8.148831</td>\n",
       "      <td>0.675728</td>\n",
       "    </tr>\n",
       "    <tr>\n",
       "      <th>37</th>\n",
       "      <td>0.223712</td>\n",
       "      <td>0.947562</td>\n",
       "      <td>8.617982</td>\n",
       "      <td>0.667961</td>\n",
       "    </tr>\n",
       "    <tr>\n",
       "      <th>38</th>\n",
       "      <td>0.495659</td>\n",
       "      <td>0.947777</td>\n",
       "      <td>5.497712</td>\n",
       "      <td>0.648544</td>\n",
       "    </tr>\n",
       "    <tr>\n",
       "      <th>39</th>\n",
       "      <td>0.400468</td>\n",
       "      <td>0.945404</td>\n",
       "      <td>10.326543</td>\n",
       "      <td>0.714563</td>\n",
       "    </tr>\n",
       "    <tr>\n",
       "      <th>40</th>\n",
       "      <td>0.181575</td>\n",
       "      <td>0.951446</td>\n",
       "      <td>9.401241</td>\n",
       "      <td>0.716505</td>\n",
       "    </tr>\n",
       "    <tr>\n",
       "      <th>41</th>\n",
       "      <td>0.290000</td>\n",
       "      <td>0.952093</td>\n",
       "      <td>10.771770</td>\n",
       "      <td>0.708738</td>\n",
       "    </tr>\n",
       "    <tr>\n",
       "      <th>42</th>\n",
       "      <td>0.192765</td>\n",
       "      <td>0.952956</td>\n",
       "      <td>10.087125</td>\n",
       "      <td>0.714563</td>\n",
       "    </tr>\n",
       "    <tr>\n",
       "      <th>43</th>\n",
       "      <td>0.192511</td>\n",
       "      <td>0.952309</td>\n",
       "      <td>9.635890</td>\n",
       "      <td>0.695146</td>\n",
       "    </tr>\n",
       "    <tr>\n",
       "      <th>44</th>\n",
       "      <td>0.188085</td>\n",
       "      <td>0.951230</td>\n",
       "      <td>11.280021</td>\n",
       "      <td>0.695146</td>\n",
       "    </tr>\n",
       "    <tr>\n",
       "      <th>45</th>\n",
       "      <td>0.278467</td>\n",
       "      <td>0.952309</td>\n",
       "      <td>11.246553</td>\n",
       "      <td>0.671845</td>\n",
       "    </tr>\n",
       "    <tr>\n",
       "      <th>46</th>\n",
       "      <td>0.190063</td>\n",
       "      <td>0.954683</td>\n",
       "      <td>11.194787</td>\n",
       "      <td>0.693204</td>\n",
       "    </tr>\n",
       "    <tr>\n",
       "      <th>47</th>\n",
       "      <td>0.321043</td>\n",
       "      <td>0.955546</td>\n",
       "      <td>10.379376</td>\n",
       "      <td>0.664078</td>\n",
       "    </tr>\n",
       "    <tr>\n",
       "      <th>48</th>\n",
       "      <td>0.222419</td>\n",
       "      <td>0.957272</td>\n",
       "      <td>15.679347</td>\n",
       "      <td>0.708738</td>\n",
       "    </tr>\n",
       "    <tr>\n",
       "      <th>49</th>\n",
       "      <td>0.246191</td>\n",
       "      <td>0.954899</td>\n",
       "      <td>13.743242</td>\n",
       "      <td>0.708738</td>\n",
       "    </tr>\n",
       "  </tbody>\n",
       "</table>\n",
       "</div>"
      ],
      "text/plain": [
       "        loss  accuracy   val_loss  val_accuracy\n",
       "0   2.074050  0.421882   1.395230      0.605825\n",
       "1   1.091144  0.701554   1.180167      0.700971\n",
       "2   0.661223  0.826284   1.090233      0.710680\n",
       "3   0.400133  0.895339   1.297835      0.706796\n",
       "4   0.299031  0.919292   1.603078      0.726214\n",
       "5   0.227928  0.945404   1.895379      0.718447\n",
       "6   0.229034  0.939361   2.087592      0.704854\n",
       "7   0.205582  0.948425   1.938810      0.693204\n",
       "8   0.177483  0.953604   2.550145      0.683495\n",
       "9   0.220949  0.946698   2.809619      0.691262\n",
       "10  0.155493  0.952741   2.686983      0.691262\n",
       "11  0.266840  0.947993   2.999980      0.693204\n",
       "12  0.235009  0.949719   2.188612      0.673786\n",
       "13  0.185672  0.947130   3.534243      0.673786\n",
       "14  0.243415  0.949719   3.079984      0.685437\n",
       "15  0.216566  0.949935   5.094642      0.681553\n",
       "16  0.298417  0.944972   3.896721      0.706796\n",
       "17  0.267250  0.947130   4.402811      0.708738\n",
       "18  0.245670  0.948856   3.654974      0.679612\n",
       "19  0.224770  0.952525   4.369811      0.683495\n",
       "20  0.251421  0.951230   4.649298      0.693204\n",
       "21  0.288282  0.948856   4.633931      0.681553\n",
       "22  0.261765  0.948856   3.831225      0.702913\n",
       "23  0.194417  0.952741   4.352146      0.691262\n",
       "24  0.195108  0.955114   6.205610      0.700971\n",
       "25  0.362814  0.951446   4.969779      0.687379\n",
       "26  0.341256  0.946483   5.258008      0.704854\n",
       "27  0.209432  0.952309   5.925142      0.728155\n",
       "28  0.279044  0.949072   6.610448      0.706796\n",
       "29  0.247784  0.955330   6.319149      0.664078\n",
       "30  0.217991  0.950367   8.224022      0.671845\n",
       "31  0.364058  0.942167   6.498944      0.679612\n",
       "32  0.289595  0.945188   5.679432      0.652427\n",
       "33  0.270954  0.944972   5.347112      0.660194\n",
       "34  0.244939  0.944756  11.563629      0.695146\n",
       "35  0.339269  0.953172   9.734533      0.704854\n",
       "36  0.254041  0.952525   8.148831      0.675728\n",
       "37  0.223712  0.947562   8.617982      0.667961\n",
       "38  0.495659  0.947777   5.497712      0.648544\n",
       "39  0.400468  0.945404  10.326543      0.714563\n",
       "40  0.181575  0.951446   9.401241      0.716505\n",
       "41  0.290000  0.952093  10.771770      0.708738\n",
       "42  0.192765  0.952956  10.087125      0.714563\n",
       "43  0.192511  0.952309   9.635890      0.695146\n",
       "44  0.188085  0.951230  11.280021      0.695146\n",
       "45  0.278467  0.952309  11.246553      0.671845\n",
       "46  0.190063  0.954683  11.194787      0.693204\n",
       "47  0.321043  0.955546  10.379376      0.664078\n",
       "48  0.222419  0.957272  15.679347      0.708738\n",
       "49  0.246191  0.954899  13.743242      0.708738"
      ]
     },
     "execution_count": 107,
     "metadata": {},
     "output_type": "execute_result"
    }
   ],
   "source": [
    "\n",
    "df_hist = pd.DataFrame(history.history)\n",
    "df_hist"
   ]
  },
  {
   "cell_type": "code",
   "execution_count": 108,
   "metadata": {},
   "outputs": [
    {
     "data": {
      "text/plain": [
       "[]"
      ]
     },
     "execution_count": 108,
     "metadata": {},
     "output_type": "execute_result"
    },
    {
     "data": {
      "image/png": "[encoded data removed]",
      "text/plain": [
       "<Figure size 432x288 with 1 Axes>"
      ]
     },
     "metadata": {
      "needs_background": "light"
     },
     "output_type": "display_data"
    }
   ],
   "source": [
    "from matplotlib import pyplot as plt\n",
    "plt.plot([i for i in range(1,51)],df_hist['accuracy'],label = 'accuracy')\n",
    "plt.plot([i for i in range(1,51)],df_hist['val_accuracy'],label= 'val_accuracy')\n",
    "plt.legend()\n",
    "plt.plot()"
   ]
  },
  {
   "cell_type": "code",
   "execution_count": 109,
   "metadata": {},
   "outputs": [
    {
     "data": {
      "text/plain": [
       "[]"
      ]
     },
     "execution_count": 109,
     "metadata": {},
     "output_type": "execute_result"
    },
    {
     "data": {
      "image/png": "[encoded data removed]",
      "text/plain": [
       "<Figure size 432x288 with 1 Axes>"
      ]
     },
     "metadata": {
      "needs_background": "light"
     },
     "output_type": "display_data"
    }
   ],
   "source": [
    "from matplotlib import pyplot as plt\n",
    "plt.plot([i for i in range(1,51)],df_hist['loss'],label = 'loss')\n",
    "plt.plot([i for i in range(1,51)],df_hist['val_loss'],label= 'val_loss')\n",
    "plt.legend()\n",
    "plt.plot()"
   ]
  },
  {
   "cell_type": "code",
   "execution_count": 110,
   "metadata": {},
   "outputs": [],
   "source": [
    "#to save model\n",
    "import pickle\n",
    "model.save('/home/bikash/Desktop/keras/NLP5/Kaggle_news_classification.h5')\n",
    "\n",
    "# to save Tokenizer ie Vocabulary\n",
    "with open('/home/bikash/Desktop/keras/NLP5/Kaggle_news_classification.pickle','wb') as f:\n",
    "  pickle.dump(tokenizer,f,protocol = pickle.HIGHEST_PROTOCOL)"
   ]
  },
  {
   "cell_type": "code",
   "execution_count": 111,
   "metadata": {},
   "outputs": [],
   "source": [
    "# load model\n",
    "from tensorflow.keras.models import load_model\n",
    "model = load_model('/home/bikash/Desktop/keras/NLP5/Kaggle_news_classification.h5')\n",
    "\n",
    "#load pickle file\n",
    "tokenizer = Tokenizer()\n",
    "with open('/home/bikash/Desktop/keras/NLP5/Kaggle_news_classification.pickle','rb') as f:\n",
    "  tokenizer = pickle.load(f)\n",
    "\n"
   ]
  },
  {
   "cell_type": "code",
   "execution_count": 112,
   "metadata": {},
   "outputs": [
    {
     "name": "stdout",
     "output_type": "stream",
     "text": [
      "0    नेपाली कांग्रेसका केन्द्रीय सदस्य सुरेन्द्र पा...\n",
      "dtype: object\n",
      "1/1 [==============================] - 0s 54ms/step\n",
      "[[4.28133470e-24 2.31279366e-28 2.07953365e-22 1.87527244e-22\n",
      "  1.46442335e-16 6.44157373e-17 3.36991140e-21 7.76867754e-27\n",
      "  1.83645748e-21 2.21836502e-18 1.02995546e-20 8.68310944e-17\n",
      "  4.90896886e-16 1.00000000e+00 4.59094293e-16 1.20957582e-22\n",
      "  3.23368013e-25 3.57764843e-19 4.73630694e-19]]\n",
      "The text you provided falls on :Politics\n"
     ]
    }
   ],
   "source": [
    "import numpy as np\n",
    "from pathlib import Path\n",
    "text_file = ['/home/bikash/Desktop/keras/NLP5/nepalinews.txt']\n",
    "x_data = []\n",
    "for i in text_file:\n",
    "  i_path = Path(i).read_text()\n",
    "  x_data.append(i_path)\n",
    "\n",
    "x_data_series = pd.Series(x_data)\n",
    "print(x_data_series)\n",
    "x_tokenized = tokenizer.texts_to_matrix(x_data_series,mode = 'tfidf')\n",
    "\n",
    "for x_t in x_tokenized:\n",
    "  prediction = model.predict(np.array([x_t]))\n",
    "  predicted_classes = text_classes[np.argmax(prediction[0])]\n",
    "  print(prediction)\n",
    "  print(f\"The text you provided falls on  :{predicted_classes}\")\n",
    "  # print('Actual label = ',test_category.iloc[i])\n",
    "  # print(\"Preticted label = \", predicted_classes)"
   ]
  }
 ],
 "metadata": {
  "kernelspec": {
   "display_name": "tensorflow",
   "language": "python",
   "name": "python3"
  },
  "language_info": {
   "codemirror_mode": {
    "name": "ipython",
    "version": 3
   },
   "file_extension": ".py",
   "mimetype": "text/x-python",
   "name": "python",
   "nbconvert_exporter": "python",
   "pygments_lexer": "ipython3",
   "version": "3.10.12"
  }
 },
 "nbformat": 4,
 "nbformat_minor": 2
}
